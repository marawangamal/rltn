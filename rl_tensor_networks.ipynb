{
  "cells": [
    {
      "cell_type": "markdown",
      "metadata": {
        "id": "view-in-github",
        "colab_type": "text"
      },
      "source": [
        "<a href=\"https://colab.research.google.com/github/marawangamal/rltn/blob/main/rl_tensor_networks.ipynb\" target=\"_parent\"><img src=\"https://colab.research.google.com/assets/colab-badge.svg\" alt=\"Open In Colab\"/></a>"
      ]
    },
    {
      "cell_type": "code",
      "execution_count": 15,
      "metadata": {
        "colab": {
          "base_uri": "https://localhost:8080/"
        },
        "id": "PgjM49sJMEjW",
        "outputId": "5914f0da-c758-4b79-faaa-02a3c9b20346"
      },
      "outputs": [
        {
          "output_type": "stream",
          "name": "stdout",
          "text": [
            "Requirement already satisfied: networkx in /usr/local/lib/python3.10/dist-packages (3.2.1)\n",
            "Requirement already satisfied: matplotlib in /usr/local/lib/python3.10/dist-packages (3.7.1)\n",
            "Requirement already satisfied: contourpy>=1.0.1 in /usr/local/lib/python3.10/dist-packages (from matplotlib) (1.2.0)\n",
            "Requirement already satisfied: cycler>=0.10 in /usr/local/lib/python3.10/dist-packages (from matplotlib) (0.12.1)\n",
            "Requirement already satisfied: fonttools>=4.22.0 in /usr/local/lib/python3.10/dist-packages (from matplotlib) (4.46.0)\n",
            "Requirement already satisfied: kiwisolver>=1.0.1 in /usr/local/lib/python3.10/dist-packages (from matplotlib) (1.4.5)\n",
            "Requirement already satisfied: numpy>=1.20 in /usr/local/lib/python3.10/dist-packages (from matplotlib) (1.23.5)\n",
            "Requirement already satisfied: packaging>=20.0 in /usr/local/lib/python3.10/dist-packages (from matplotlib) (23.2)\n",
            "Requirement already satisfied: pillow>=6.2.0 in /usr/local/lib/python3.10/dist-packages (from matplotlib) (9.4.0)\n",
            "Requirement already satisfied: pyparsing>=2.3.1 in /usr/local/lib/python3.10/dist-packages (from matplotlib) (3.1.1)\n",
            "Requirement already satisfied: python-dateutil>=2.7 in /usr/local/lib/python3.10/dist-packages (from matplotlib) (2.8.2)\n",
            "Requirement already satisfied: six>=1.5 in /usr/local/lib/python3.10/dist-packages (from python-dateutil>=2.7->matplotlib) (1.16.0)\n",
            "Requirement already satisfied: tensornetwork in /usr/local/lib/python3.10/dist-packages (0.4.6)\n",
            "Requirement already satisfied: numpy>=1.17 in /usr/local/lib/python3.10/dist-packages (from tensornetwork) (1.23.5)\n",
            "Requirement already satisfied: graphviz>=0.11.1 in /usr/local/lib/python3.10/dist-packages (from tensornetwork) (0.20.1)\n",
            "Requirement already satisfied: opt-einsum>=2.3.0 in /usr/local/lib/python3.10/dist-packages (from tensornetwork) (3.3.0)\n",
            "Requirement already satisfied: h5py>=2.9.0 in /usr/local/lib/python3.10/dist-packages (from tensornetwork) (3.9.0)\n",
            "Requirement already satisfied: scipy>=1.1 in /usr/local/lib/python3.10/dist-packages (from tensornetwork) (1.11.4)\n",
            "Requirement already satisfied: tqdm in /usr/local/lib/python3.10/dist-packages (4.66.1)\n"
          ]
        }
      ],
      "source": [
        "!pip install networkx matplotlib\n",
        "!pip3 install tensornetwork\n",
        "!pip3 install tqdm"
      ]
    },
    {
      "cell_type": "markdown",
      "metadata": {
        "id": "f4YlAGPAg6Hw"
      },
      "source": [
        "# 1. Enivronment"
      ]
    },
    {
      "cell_type": "markdown",
      "metadata": {
        "id": "PDZtjkQz_0Q5"
      },
      "source": [
        "## 1.1 NCON"
      ]
    },
    {
      "cell_type": "code",
      "execution_count": 16,
      "metadata": {
        "id": "6BWmLN6k_zgU"
      },
      "outputs": [],
      "source": [
        "\"\"\"\n",
        "A module for the ncon function to contract multiple tensors.\n",
        "References:\n",
        "    - https://github.com/mhauru/ncon/blob/master/src/ncon/ncon.py\n",
        "\"\"\"\n",
        "\n",
        "from collections.abc import Iterable\n",
        "from tqdm import tqdm\n",
        "import torch\n",
        "\n",
        "\n",
        "def ncon(tensor_list, edge_list, order=None, forder=None, check_indices=True):\n",
        "    \"\"\"\n",
        "    Args:\n",
        "        tensor_list:    list of tensors to be contracted\n",
        "        edge_list:      list of lists of indices e.g. edge_list[0] = [3, 4, -1]\n",
        "                        labels the three indices of tensor tensor_list[0],\n",
        "                        with -1 indicating an uncontracted index (open leg)\n",
        "                        and 3 and 4 being the contracted indices.\n",
        "        order:          list of contraction order (default [1, 2, 3, 4, ...])\n",
        "        forder:         list of final ordering (default [-1, -2, ...])\n",
        "        check_indices:  sanity  check the inputs (default True)\n",
        "\n",
        "    Returns:\n",
        "        A: contracted tensor\n",
        "    \"\"\"\n",
        "\n",
        "    # We want to handle the tensors as a list, regardless of what kind\n",
        "    # of iterable we are given. Inputs are assumed to be non-empty.\n",
        "    tensor_list = list(tensor_list)\n",
        "    edge_list = list(edge_list)\n",
        "    if not isinstance(edge_list[0], Iterable):\n",
        "        # edge_list is not a list of lists, so make it such.\n",
        "        edge_list = [edge_list]\n",
        "    else:\n",
        "        edge_list = list(map(list, edge_list))\n",
        "\n",
        "    if order is None:\n",
        "        order = create_order(edge_list)\n",
        "    if forder is None:\n",
        "        forder = create_forder(edge_list)\n",
        "\n",
        "    if check_indices:\n",
        "        # Raise a RuntimeError if the indices are wrong.\n",
        "        do_check_indices(tensor_list, edge_list, order, forder)\n",
        "\n",
        "    # If the graph is disconnected, connect it with trivial indices that\n",
        "    # will be contracted at the very end.\n",
        "    connect_graph(tensor_list, edge_list, order)\n",
        "\n",
        "    while len(order) > 0:\n",
        "        tcon = get_tcon(edge_list, order[0])  # tcon = tensors to be contracted\n",
        "        # Find the indices icon that are to be contracted.\n",
        "        if len(tcon) == 1:\n",
        "            tracing = True\n",
        "            icon = [order[0]]\n",
        "        else:\n",
        "            tracing = False\n",
        "            icon = get_icon(edge_list, tcon)\n",
        "        # Position in tcon[0] and tcon[1] of indices to be contracted.\n",
        "        # In the case of trace, pos2 = []\n",
        "        pos1, pos2 = get_pos(edge_list, tcon, icon)\n",
        "        if tracing:\n",
        "            # Trace on a tensor\n",
        "            new_A = trace(tensor_list[tcon[0]], axis1=pos1[0], axis2=pos1[1])\n",
        "        else:\n",
        "            # Contraction of 2 tensors\n",
        "            new_A = con(tensor_list[tcon[0]], tensor_list[tcon[1]], (pos1, pos2))\n",
        "        tensor_list.append(new_A)\n",
        "        edge_list.append(find_newv(edge_list, tcon, icon))  # Add the edge_list for the new tensor\n",
        "        for i in sorted(tcon, reverse=True):\n",
        "            # Delete the contracted tensors and indices from the lists.\n",
        "            # tcon is reverse sorted so that tensors are removed starting from\n",
        "            # the end of tensor_list, otherwise the order would get messed.\n",
        "            del tensor_list[i]\n",
        "            del edge_list[i]\n",
        "        order = renew_order(order, icon)  # Update order\n",
        "\n",
        "    vlast = edge_list[0]\n",
        "    A = tensor_list[0]\n",
        "    A = permute_final(A, vlast, forder)\n",
        "    return A\n",
        "\n",
        "\n",
        "# # # # # # # # # # # # # # # # # # # # # # # # # # # # # # # # # # # #\n",
        "\n",
        "\n",
        "def create_order(edge_list):\n",
        "    \"\"\"Identify all unique, positive indices and return them sorted.\"\"\"\n",
        "    flat_v = sum(edge_list, [])\n",
        "    x = [i for i in flat_v if i > 0]\n",
        "    # Converting to a set and back removes duplicates\n",
        "    x = list(set(x))\n",
        "    return sorted(x)\n",
        "\n",
        "\n",
        "def create_forder(edge_list):\n",
        "    \"\"\"Identify all unique, negative indices and return them reverse sorted\n",
        "    (-1 first).\n",
        "    \"\"\"\n",
        "    flat_v = sum(edge_list, [])\n",
        "    x = [i for i in flat_v if i < 0]\n",
        "    # Converting to a set and back removes duplicates\n",
        "    x = list(set(x))\n",
        "    return sorted(x, reverse=True)\n",
        "\n",
        "\n",
        "def connect_graph(tensor_list, edge_list, order):\n",
        "    \"\"\"Connect the graph of tensors to be contracted by trivial\n",
        "    indices, if necessary. Add these trivial indices to the end of the\n",
        "    contraction order.\n",
        "\n",
        "    tensor_list, edge_list and order are modified in place.\n",
        "    \"\"\"\n",
        "    # Build ccomponents, a list of the connected components of the graph,\n",
        "    # where each component is represented by a a set of indices.\n",
        "    unvisited = set(range(len(tensor_list)))\n",
        "    visited = set()\n",
        "    ccomponents = []\n",
        "    while unvisited:\n",
        "        component = set()\n",
        "        next_visit = unvisited.pop()\n",
        "        to_visit = {next_visit}\n",
        "        while to_visit:\n",
        "            i = to_visit.pop()\n",
        "            unvisited.discard(i)\n",
        "            component.add(i)\n",
        "            visited.add(i)\n",
        "            # Get the indices of tensors neighbouring tensor_list[i].\n",
        "            i_inds = set(edge_list[i])\n",
        "            neighs = (\n",
        "                j for j, j_inds in enumerate(edge_list) if i_inds.intersection(j_inds)\n",
        "            )\n",
        "            for neigh in neighs:\n",
        "                if neigh not in visited:\n",
        "                    to_visit.add(neigh)\n",
        "        ccomponents.append(component)\n",
        "    # If there is more than one connected component, take one of them, a\n",
        "    # take an arbitrary tensor (called c) out of it, and connect that\n",
        "    # tensor with an arbitrary tensor (called d) from all the other\n",
        "    # components using a trivial index.\n",
        "    c = ccomponents.pop().pop()\n",
        "    while ccomponents:\n",
        "        d = ccomponents.pop().pop()\n",
        "        A_c = tensor_list[c]\n",
        "        A_d = tensor_list[d]\n",
        "        c_axis = len(edge_list[c])\n",
        "        d_axis = len(edge_list[d])\n",
        "        tensor_list[c] = torch.unsqueeze(A_c, c_axis)\n",
        "        tensor_list[d] = torch.unsqueeze(A_d, d_axis)\n",
        "        try:\n",
        "            dim_num = max(order) + 1\n",
        "        except ValueError:\n",
        "            dim_num = 1\n",
        "        edge_list[c].append(dim_num)\n",
        "        edge_list[d].append(dim_num)\n",
        "        order.append(dim_num)\n",
        "    return None\n",
        "\n",
        "\n",
        "def get_tcon(edge_list, index):\n",
        "    \"\"\"Gets the list indices in tensor_list of the tensors that have index as their\n",
        "    leg.\n",
        "    \"\"\"\n",
        "    tcon = []\n",
        "    for i, inds in enumerate(edge_list):\n",
        "        if index in inds:\n",
        "            tcon.append(i)\n",
        "    l = len(tcon)\n",
        "    # If check_indices is called and it does its work properly then these\n",
        "    # checks should in fact be unnecessary.\n",
        "    if l > 2:\n",
        "        raise ValueError(\n",
        "            \"In ncon.get_tcon, more than two tensors share a contraction \"\n",
        "            \"index.\"\n",
        "        )\n",
        "    elif l < 1:\n",
        "        raise ValueError(\n",
        "            \"In ncon.get_tcon, less than one tensor share a contraction index.\"\n",
        "        )\n",
        "    elif l == 1:\n",
        "        # The contraction is a trace.\n",
        "        how_many = edge_list[tcon[0]].count(index)\n",
        "        if how_many != 2:\n",
        "            # Only one tensor has this index but it is not a trace because it\n",
        "            # does not occur twice for that tensor.\n",
        "            raise ValueError(\n",
        "                \"In ncon.get_tcon, a trace index is listed != 2 times for the \"\n",
        "                \"same tensor.\"\n",
        "            )\n",
        "    return tcon\n",
        "\n",
        "\n",
        "def get_icon(edge_list, tcon):\n",
        "    \"\"\"Returns a list of indices that are to be contracted when contractions\n",
        "    between the two tensors numbered in tcon are contracted.\n",
        "    \"\"\"\n",
        "    inds1 = edge_list[tcon[0]]\n",
        "    inds2 = edge_list[tcon[1]]\n",
        "    icon = set(inds1).intersection(inds2)\n",
        "    icon = list(icon)\n",
        "    return icon\n",
        "\n",
        "\n",
        "def get_pos(edge_list, tcon, icon):\n",
        "    \"\"\"Get the positions of the indices icon in the list of legs the tensors\n",
        "    tcon to be contracted.\n",
        "    \"\"\"\n",
        "    pos1 = [[i for i, x in enumerate(edge_list[tcon[0]]) if x == e] for e in icon]\n",
        "    pos1 = sum(pos1, [])\n",
        "    if len(tcon) < 2:\n",
        "        pos2 = []\n",
        "    else:\n",
        "        pos2 = [[i for i, x in enumerate(edge_list[tcon[1]]) if x == e] for e in icon]\n",
        "        pos2 = sum(pos2, [])\n",
        "    return pos1, pos2\n",
        "\n",
        "\n",
        "def find_newv(edge_list, tcon, icon):\n",
        "    \"\"\"Find the list of indices for the new tensor after contraction of\n",
        "    indices icon of the tensors tcon.\n",
        "    \"\"\"\n",
        "    if len(tcon) == 2:\n",
        "        newv = edge_list[tcon[0]] + edge_list[tcon[1]]\n",
        "    else:\n",
        "        newv = edge_list[tcon[0]]\n",
        "    newv = [i for i in newv if i not in icon]\n",
        "    return newv\n",
        "\n",
        "\n",
        "def renew_order(order, icon):\n",
        "    \"\"\"Returns the new order with the contracted indices removed from it.\"\"\"\n",
        "    return [i for i in order if i not in icon]\n",
        "\n",
        "\n",
        "def permute_final(A, edge_list, forder):\n",
        "    \"\"\"Returns the final tensor A with its legs permuted to the order given\n",
        "    in forder.\n",
        "    \"\"\"\n",
        "    perm = [edge_list.index(i) for i in forder]\n",
        "    permuted = A.permute(tuple(perm))\n",
        "\n",
        "    return permuted\n",
        "\n",
        "\n",
        "def do_check_indices(tensor_list, edge_list, order, forder):\n",
        "    \"\"\"Check that\n",
        "    1) the number of tensors in tensor_list matches the number of index lists in edge_list.\n",
        "    2) every tensor is given the right number of indices.\n",
        "    3) every contracted index is featured exactly twice and every free index\n",
        "       exactly once.\n",
        "    4) the dimensions of the two ends of each contracted index match.\n",
        "    \"\"\"\n",
        "\n",
        "    # 1)\n",
        "    if len(tensor_list) != len(edge_list):\n",
        "        raise ValueError(\n",
        "            (\n",
        "                \"In ncon.do_check_indices, the number of tensors %i\"\n",
        "                \" does not match the number of index lists %i\"\n",
        "            )\n",
        "            % (len(tensor_list), len(edge_list))\n",
        "        )\n",
        "\n",
        "    # 2)\n",
        "    # Create a list of lists with the shapes of each A in tensor_list.\n",
        "    shapes = list(map(lambda A: list(A.shape), tensor_list))\n",
        "    for i, inds in enumerate(edge_list):\n",
        "        if len(inds) != len(shapes[i]):\n",
        "            raise ValueError(\n",
        "                (\n",
        "                    \"In ncon.do_check_indices, len(edge_list[%i])=%i does not match \"\n",
        "                    \"the numbers of indices of tensor_list[%i] = %i\"\n",
        "                )\n",
        "                % (i, len(inds), i, len(shapes[i]))\n",
        "            )\n",
        "\n",
        "    # 3) and 4)\n",
        "    # v_pairs = [[(0,0), (0,1), (0,2), ...], [(1,0), (1,1), (1,2), ...], ...]\n",
        "    v_pairs = [[(i, j) for j in range(len(s))] for i, s in enumerate(edge_list)]\n",
        "    v_pairs = sum(v_pairs, [])\n",
        "    v_sum = sum(edge_list, [])\n",
        "    # For t, o in zip(v_pairs, v_sum) t is the tuple of the number of\n",
        "    # the tensor and the index and o is the contraction order of that\n",
        "    # index. We group these tuples by the contraction order.\n",
        "    order_groups = [\n",
        "        [t for t, o in zip(v_pairs, v_sum) if o == e] for e in order\n",
        "    ]\n",
        "    forder_groups = [[1 for fo in v_sum if fo == e] for e in forder]\n",
        "    for i, o in enumerate(order_groups):\n",
        "        if len(o) != 2:\n",
        "            raise ValueError(\n",
        "                (\n",
        "                    \"In ncon.do_check_indices, the contracted index %i is not \"\n",
        "                    \"featured exactly twice in edge_list.\"\n",
        "                )\n",
        "                % order[i]\n",
        "            )\n",
        "        else:\n",
        "            A0, ind0 = o[0]\n",
        "            A1, ind1 = o[1]\n",
        "            try:\n",
        "                compatible = tensor_list[A0].compatible_indices(tensor_list[A1], ind0, ind1)\n",
        "            except AttributeError:\n",
        "                compatible = tensor_list[A0].shape[ind0] == tensor_list[A1].shape[ind1]\n",
        "            if not compatible:\n",
        "                raise ValueError(\n",
        "                    \"In ncon.do_check_indices, for the contraction index %i, \"\n",
        "                    \"the leg %i of tensor number %i and the leg %i of tensor \"\n",
        "                    \"number %i are not compatible.\"\n",
        "                    % (order[i], ind0, A0, ind1, A1)\n",
        "                )\n",
        "    for i, fo in enumerate(forder_groups):\n",
        "        if len(fo) != 1:\n",
        "            raise ValueError(\n",
        "                (\n",
        "                    \"In ncon.do_check_indices, the free index %i is not \"\n",
        "                    \"featured exactly once in edge_list.\"\n",
        "                )\n",
        "                % forder[i]\n",
        "            )\n",
        "\n",
        "    # All is well if we made it here.\n",
        "    return True\n",
        "\n",
        "\n",
        "######################################################################\n",
        "# The following are simple wrappers around pytorch Tensor functions, #\n",
        "# but may be replaced with fancier stuff later.                      #\n",
        "######################################################################\n",
        "\n",
        "\n",
        "def con(A, B, inds):\n",
        "    return torch.tensordot(A, B, inds)\n",
        "\n",
        "\n",
        "def trace(tensor, axis1=0, axis2=1):\n",
        "    \"\"\"Return summed entries along diagonals.\n",
        "    If tensor is 2-D, the sum is over the\n",
        "    diagonal of tensor with the given offset,\n",
        "    i.e., the collection of elements of the form a[i, i+offset].\n",
        "    If a has more than two dimensions, then the axes specified by\n",
        "    axis1 and axis2 are used to determine the 2-D sub-array whose diagonal is\n",
        "    summed.\n",
        "    Args:\n",
        "      tensor: A tensor.\n",
        "      axis1, axis2: Axis to be used as the first/second axis of the 2D\n",
        "                    sub-arrays from which the diagonals should be taken.\n",
        "                    Defaults to second-last/last axis.\n",
        "    Returns:\n",
        "      array_of_diagonals: The batched summed diagonals.\n",
        "    \"\"\"\n",
        "    return torch.sum(torch.diagonal(tensor, dim1=axis1, dim2=axis2), dim=-1)"
      ]
    },
    {
      "cell_type": "markdown",
      "metadata": {
        "id": "46T3q43D_8iM"
      },
      "source": [
        "## 1.2 Environment"
      ]
    },
    {
      "cell_type": "code",
      "execution_count": 17,
      "metadata": {
        "id": "hrUnAzMuLY8-"
      },
      "outputs": [],
      "source": [
        "import copy\n",
        "import numpy as np\n",
        "from typing import List\n",
        "import networkx as nx\n",
        "import matplotlib.pyplot as plt\n",
        "import numpy as np\n",
        "import torch\n",
        "import tensornetwork as tn\n",
        "tn.set_default_backend(\"pytorch\") # tensorflow, jax, numpy, symmetric\n",
        "\n",
        "\n",
        "class Environment:\n",
        "  def __init__(\n",
        "      self,\n",
        "      target_tensor: np.array,\n",
        "      compression_constraint: float = 1.0,\n",
        "      gt_graph: np.array = None,\n",
        "      gt_free_dimensions: np.array = None,\n",
        "      max_num_nodes: int = 8,\n",
        "      max_rank: int = 8,\n",
        "      min_rank: int = 0,\n",
        "      max_episode_length: int = 100,\n",
        "      seed=4,\n",
        "      verbose = False,\n",
        "      reward_breakdown = False,\n",
        "      ) -> None:\n",
        "    \"\"\"\n",
        "      Args:\n",
        "        target_tensor (np.array): Tensor to factorize\n",
        "        compression_constraint (float): Compression ratio above which a penalty is applied (lower value means more compression)\n",
        "        gt_graph (Optional[np.array]): Ground truth for plotting\n",
        "        gt_free_dimensions (Optional[List]): Ground truth for plotting - Hanging legs (e.g. free_dimensions[i] is the free dimension of node[i])\n",
        "        max_num_nodes (int): Maximum number of nodes in tensor network\n",
        "        max_rank (int): Maximim rank dimension (to limit state-action space)\n",
        "        min_rank (int): Minimum rank dimension (to limit state-action space)\n",
        "        max_episode_length (int): Max time steps\n",
        "        reward_breakdown (boolean): Whether to return a detailed breakdown of the reward\n",
        "    \"\"\"\n",
        "    # Assert types and value constraints\n",
        "\n",
        "    assert isinstance(max_num_nodes, int), \"max_num_nodes must be an integer\"\n",
        "    assert isinstance(max_rank, int), \"max_rank must be an integer\"\n",
        "    assert isinstance(min_rank, int), \"min_rank must be an integer\"\n",
        "    assert max_rank >= min_rank, \"max_rank must be greater than or equal to min_rank\"\n",
        "    assert max_num_nodes > 0, \"max_num_nodes must be greater than 0\"\n",
        "    n_free_legs = len(target_tensor.shape)\n",
        "    assert n_free_legs >= 2, \"Target tensor must be atleast 2d\"\n",
        "\n",
        "\n",
        "    # self.initial_graph = np.eye(n_free_legs, n_free_legs, 1) + np.eye(n_free_legs, n_free_legs, -1)\n",
        "    self.initial_graph = np.zeros((n_free_legs, n_free_legs))\n",
        "    self.free_dimensions = np.array([int(d) for d in target_tensor.shape])\n",
        "\n",
        "    self.target_tensor = target_tensor\n",
        "    self.compression_constraint = compression_constraint\n",
        "    self.state = self.initial_graph\n",
        "    self.max_num_nodes = max_num_nodes\n",
        "    self.max_rank = max_rank\n",
        "    self.min_rank = min_rank\n",
        "    self.num_steps = 0\n",
        "    self.max_episode_length = max_episode_length\n",
        "    self.verbose = verbose\n",
        "    self.reward_breakdown = reward_breakdown\n",
        "\n",
        "    self.gt_graph = gt_graph\n",
        "    self.gt_free_dimensions = gt_free_dimensions\n",
        "\n",
        "\n",
        "  def seed(self, seed=None):\n",
        "    self.np_random, seed = seeding.np_random(seed)\n",
        "    return [seed]\n",
        "\n",
        "  def reset(self):\n",
        "    self.state = self.initial_graph\n",
        "    self.num_steps = 0\n",
        "    return self.state\n",
        "\n",
        "  @staticmethod\n",
        "  def tn_to_nxgraph(adj_mat, fixed_node_ids):\n",
        "\n",
        "    G = nx.from_numpy_array(adj_mat)\n",
        "\n",
        "    for node_id in fixed_node_ids:\n",
        "        invisible_node_id = f\"invisible_{node_id}\"\n",
        "        G.add_node(invisible_node_id, visible=False)\n",
        "        G.add_edge(node_id, invisible_node_id)\n",
        "\n",
        "    pos = nx.circular_layout(G)\n",
        "    node_colors = []\n",
        "    node_sizes=[]\n",
        "    for node in G.nodes():\n",
        "      if 'invisible' in str(node):\n",
        "        node_colors.append('none')\n",
        "        node_sizes.append(10)\n",
        "      elif node in fixed_node_ids:\n",
        "        node_colors.append('red')\n",
        "        node_sizes.append(500)\n",
        "      else:\n",
        "        node_colors.append('lightblue')\n",
        "        node_sizes.append(500)\n",
        "    # node_colors = ['red' if node in fixed_node_ids else 'lightblue' for node in G.nodes() if 'invisible' not in str(node)]\n",
        "    edge_colors = 'gray'\n",
        "    node_labels = {n: n for n in G.nodes() if 'invisible' not in str(n)}\n",
        "    edge_labels = {(i, j): int(adj_mat[i, j]) for i, j in G.edges if 'invisible' not in str(i) + str(j)}\n",
        "\n",
        "    # Define a fixed, short distance for 'invisible' nodes to be above their corresponding nodes\n",
        "    short_distance = 0.2  # Adjust this value as needed\n",
        "\n",
        "    # Adjust positions for invisible nodes\n",
        "    for node_id in fixed_node_ids:\n",
        "        invisible_node_id = f\"invisible_{node_id}\"\n",
        "        if invisible_node_id in pos:\n",
        "            visible_node_pos = pos[node_id]\n",
        "            # Set the 'invisible' node position slightly above the visible node\n",
        "            pos[invisible_node_id] = (visible_node_pos[0], visible_node_pos[1] + short_distance)\n",
        "\n",
        "    return G, pos, node_colors, edge_colors, node_labels, edge_labels, node_sizes\n",
        "\n",
        "\n",
        "  def plot_adjacency_matrix(self):\n",
        "    # fixed_node_ids = [i for i in range(len(self.initial_graph))]\n",
        "    # self._plot_nx_tn_graph(self.state, fixed_node_ids)\n",
        "\n",
        "    # Prepare the subplot\n",
        "    if self.gt_graph is not None and self.gt_free_dimensions is not None:\n",
        "        plt.figure(figsize=(6, 3))  # Adjusted for two subplots\n",
        "        plt.subplot(1, 2, 1)\n",
        "    else:\n",
        "        plt.figure(figsize=(3, 3))\n",
        "\n",
        "    # Plot the state grap\n",
        "    fixed_node_ids = [i for i in range(len(self.free_dimensions))]\n",
        "    G, pos, node_colors, edge_colors, node_labels, edge_labels, node_sizes = self.tn_to_nxgraph(self.state, fixed_node_ids)\n",
        "    nx.draw_networkx_nodes(G, pos, node_color=node_colors, node_size=node_sizes)\n",
        "    nx.draw_networkx_edges(G, pos, edge_color=edge_colors)\n",
        "    nx.draw_networkx_labels(G, pos, labels=node_labels)\n",
        "    nx.draw_networkx_edge_labels(G, pos, edge_labels=edge_labels)\n",
        "    plt.title(\"State Graph\")  # Title for the state graph\n",
        "\n",
        "\n",
        "   # Plot the GT graph if it exists\n",
        "    if self.gt_graph is not None and self.gt_free_dimensions is not None:\n",
        "        plt.subplot(1, 2, 2)\n",
        "        gt_fixed_node_ids = [i for i in range(len(self.gt_free_dimensions))]\n",
        "        G, pos, node_colors, edge_colors, visible_labels, edge_labels, node_sizes = self.tn_to_nxgraph(self.gt_graph, gt_fixed_node_ids)\n",
        "        nx.draw_networkx_nodes(G, pos, node_color=node_colors, node_size=node_sizes)\n",
        "        nx.draw_networkx_edges(G, pos, edge_color=edge_colors)\n",
        "        nx.draw_networkx_labels(G, pos, labels=visible_labels)\n",
        "        nx.draw_networkx_edge_labels(G, pos, edge_labels=edge_labels)\n",
        "        plt.title(\"GT Graph\")  # Title for the GT graph\n",
        "\n",
        "    plt.show()\n",
        "\n",
        "\n",
        "  @staticmethod\n",
        "  def add_empty_row_and_column(arr: np.array) -> np.array:\n",
        "    n_rows, n_cols = arr.shape\n",
        "    new_arr = np.zeros((n_rows + 1, n_cols + 1))\n",
        "    new_arr[:n_rows, :n_cols] = arr\n",
        "    return new_arr\n",
        "\n",
        "  @staticmethod\n",
        "  def remove_row_and_column(arr: np.array, index: int) -> np.array:\n",
        "      assert arr.shape[0] == arr.shape[1], \"State array must be a square matrix\"\n",
        "      assert index < arr.shape[0], \"Node index out of range\"\n",
        "      new_arr = np.delete(arr, index, axis=0)\n",
        "      new_arr = np.delete(new_arr, index, axis=1)\n",
        "      return new_arr\n",
        "\n",
        "  def remove_unconnected_nodes(self, tensor_network_adj_matrix):\n",
        "    \"\"\"Remove unconnected nodes\"\"\"\n",
        "    for i in range(len(tensor_network_adj_matrix)):\n",
        "      if np.sum(tensor_network_adj_matrix[i]) == 0 and np.sum(tensor_network_adj_matrix[:, i]) == 0:\n",
        "        return self.remove_unconnected_nodes(self.remove_row_and_column(tensor_network_adj_matrix, i))\n",
        "    return tensor_network_adj_matrix\n",
        "\n",
        "  def min_loss(\n",
        "      self,\n",
        "      tensor_network_adj_matrix,\n",
        "      target_tensor,\n",
        "      n_iterations=1000,\n",
        "      learning_rate=1e-5\n",
        "      ):\n",
        "    \"\"\"Optimizes randomly initialized tensor network w.r.t `target_tensor`\"\"\"\n",
        "    tensors = []\n",
        "\n",
        "    # Remove unconnected nodes (except fixed ones)\n",
        "    # print(f\"Before: \\n{tensor_network_adj_matrix}\")\n",
        "    # print(f\"Before: \\n{self.state}\")\n",
        "    tensor_network_adj_matrix = copy.deepcopy(tensor_network_adj_matrix)\n",
        "    rows, cols = tensor_network_adj_matrix.shape\n",
        "    n_fixed = len(self.free_dimensions)\n",
        "    if rows >= n_fixed and cols >= n_fixed:\n",
        "      identity_matrix = np.eye(n_fixed)\n",
        "      tensor_network_adj_matrix[:n_fixed, :n_fixed] += identity_matrix\n",
        "\n",
        "    tensor_network_adj_matrix = self.remove_unconnected_nodes(tensor_network_adj_matrix)\n",
        "\n",
        "    if rows >= n_fixed and cols >= n_fixed:\n",
        "      identity_matrix = np.eye(n_fixed)\n",
        "      tensor_network_adj_matrix[:n_fixed, :n_fixed] -= identity_matrix\n",
        "\n",
        "\n",
        "    tensor_network_adj_matrix = tensor_network_adj_matrix.astype(int)\n",
        "    # print(f\"After: \\n{tensor_network_adj_matrix}\")\n",
        "    # print(f\"After: \\n{self.state}\\n\")\n",
        "\n",
        "    # Generate random tensors (free leg is last dimension)\n",
        "    for i in range(len(tensor_network_adj_matrix)):\n",
        "      dims = tensor_network_adj_matrix[i][tensor_network_adj_matrix[i] > 0]\n",
        "      if i < len(self.free_dimensions):\n",
        "        dims = np.append(dims, np.array([self.free_dimensions[i]]))\n",
        "      tensors.append(torch.randn(*dims, requires_grad=True))\n",
        "\n",
        "    # Specify contraction for ncon engine\n",
        "    ncon_v = self.adjacency_matrix_to_ncon_format(tensors, tensor_network_adj_matrix)\n",
        "\n",
        "    # Optimize loss\n",
        "    min_loss_observed = float('inf')\n",
        "    optimizer = torch.optim.AdamW(tensors, lr=learning_rate)\n",
        "    target_tensor = torch.tensor(target_tensor)\n",
        "    for t in range(n_iterations):\n",
        "      optimizer.zero_grad()\n",
        "      contracted_tensor_network = ncon(tensors, ncon_v)\n",
        "      loss = torch.mean((contracted_tensor_network - target_tensor) ** 2)\n",
        "      loss.backward()\n",
        "      optimizer.step()\n",
        "\n",
        "      if min_loss_observed > loss.item():\n",
        "        min_loss_observed = loss.item()\n",
        "\n",
        "      if t % 2000 == 0 and self.verbose:\n",
        "        # Calculate compression ratio\n",
        "        n_params_original = torch.tensor([i for i in self.target_tensor.shape]).prod()\n",
        "        n_params_tn = sum([tens.numel() for tens in tensors])\n",
        "        compression_loss = n_params_tn / n_params_original\n",
        "        print(\"-\" * 200)\n",
        "        print(f\"state: \\n{self.state}\")\n",
        "        print(f\"tensor_network_adj_matrix: \\n{tensor_network_adj_matrix}\")\n",
        "        print(f\"Tensor shapes: {[t.shape for t in tensors]}\")\n",
        "        print(f\"[{t}/{n_iterations}] Loss (reconst.): {loss.item()} | Loss (compr.): {compression} | Best Loss: {min_loss_observed}\")\n",
        "        print(\"-\" * 200)\n",
        "\n",
        "    # Calculate compression ratio\n",
        "    n_params_original = torch.tensor([i for i in self.target_tensor.shape]).prod()\n",
        "    n_params_tn = sum([tens.numel() for tens in tensors])\n",
        "\n",
        "    compression_loss = n_params_tn / n_params_original\n",
        "    compression_loss = 1000 if compression_loss > self.compression_constraint else 0\n",
        "\n",
        "    return min_loss_observed, compression_loss\n",
        "\n",
        "\n",
        "  @staticmethod\n",
        "  def adjacency_matrix_to_ncon_format(tensors, adj_mat):\n",
        "      \"\"\"Convert an adjacency matrix to ncon format.\n",
        "\n",
        "      Args:\n",
        "          tensors (List): Contains np tensors to be contracted\n",
        "          adj_mat (np.array): Binary 2D array describing which tensors are connected\n",
        "\n",
        "      Returns:\n",
        "          ncon_v (List[List]): List of lists as in ncon\n",
        "      \"\"\"\n",
        "      num_tensors = len(tensors)\n",
        "      ncon_v = [[] for _ in range(num_tensors)]\n",
        "\n",
        "      # Label for contracted indices (start from 1)\n",
        "      label = 1\n",
        "\n",
        "      # Iterate over upper triangle of adj_mat to avoid duplicate pairs\n",
        "      for i in range(num_tensors):\n",
        "          for j in range(i + 1, num_tensors):\n",
        "              if adj_mat[i, j] >= 1:\n",
        "                  # If tensors are connected, assign the same positive label\n",
        "                  ncon_v[i].append(label)\n",
        "                  ncon_v[j].append(label)\n",
        "                  label += 1\n",
        "\n",
        "      # Assign negative labels for free indices\n",
        "      for i in range(num_tensors):\n",
        "          # Number of indices in tensor i\n",
        "          num_indices = tensors[i].ndim\n",
        "\n",
        "          # If tensor i has more indices than labels, it has free indices\n",
        "          while len(ncon_v[i]) < num_indices:\n",
        "              ncon_v[i].append(-label)\n",
        "              label += 1\n",
        "\n",
        "      return ncon_v\n",
        "\n",
        "  def step_action(self, action: str) -> np.array:\n",
        "    \"\"\" Perform an action in the environment.\n",
        "      Args:\n",
        "        action (str): One of ['addNode', 'removeNode:index', 'increment:index1:index2', 'decrement:index1:index2']\n",
        "      Returns:\n",
        "        state: (np.array) Adjacency matrix describing tensor network graph\n",
        "    \"\"\"\n",
        "    self.num_steps += 1\n",
        "    action_type = action.split(\":\")[0]\n",
        "    if action_type in ['addNode']: #\n",
        "       self.state = self.add_empty_row_and_column(self.state)\n",
        "\n",
        "    elif action_type in ['removeNode']: # unary\n",
        "      action_node = int(action.split(\":\")[1])\n",
        "      if not (action_node < len(self.initial_graph)):\n",
        "        self.state = self.remove_row_and_column(self.state, action_node)\n",
        "      elif self.verbose:\n",
        "        print(f\"Invlaid action {action}. Cannot remove node with free leg.\")\n",
        "\n",
        "    elif action_type in ['increment', 'decrement']:\n",
        "      action_node_a = int(action.split(\":\")[1])\n",
        "      action_node_b = int(action.split(\":\")[2])\n",
        "\n",
        "      if action_type == 'increment':\n",
        "        delta = 2 if self.state[action_node_a, action_node_b] == 0 else 1\n",
        "        sgn = 1\n",
        "      else:\n",
        "        sgn = -1\n",
        "        delta = 2 if self.state[action_node_a, action_node_b] == 2 else 1\n",
        "\n",
        "      self.state[action_node_a, action_node_b] += int(sgn * delta)\n",
        "      self.state[action_node_b, action_node_a] += int(sgn * delta)  # keep symmetry\n",
        "\n",
        "    min_loss, compression = self.min_loss(self.state, self.target_tensor)\n",
        "    reward = - (min_loss + compression)\n",
        "    truncted = self.num_steps >= self.max_episode_length\n",
        "    done = truncted  # same as truncate for now. Could be set to true if |loss| < epsilon\n",
        "    if self.reward_breakdown:\n",
        "      return self.state.astype(int), reward, done, truncted, (min_loss, compression)\n",
        "    else:\n",
        "      return self.state.astype(int), reward, done, truncted\n",
        "\n",
        "  def get_feasible_actions(self) -> List:\n",
        "    actions_list = []\n",
        "    num_edges = np.sum(self.state[len(self.free_dimensions):], axis=1)\n",
        "    unconnected_node_exists = np.any(num_edges == 0)\n",
        "\n",
        "    if self.state.shape[0] < self.max_num_nodes and not unconnected_node_exists:\n",
        "      actions_list.append('addNode')\n",
        "    if self.state.shape[0] > len(self.free_dimensions):\n",
        "      actions_list.extend([f'deleteNode:{i}' for i in range(len(self.free_dimensions), len(self.state))])\n",
        "    for i in range(self.state.shape[0]):\n",
        "      for j in range(i + 1, self.state.shape[1]):\n",
        "        if self.state[i][j] < self.max_rank:\n",
        "          actions_list.append(f'increment:{i}:{j}')\n",
        "        if (self.state[i][j] == 2 and not unconnected_node_exists) or self.state[i][j] > 2:\n",
        "          actions_list.append(f'decrement:{i}:{j}')\n",
        "\n",
        "    return actions_list"
      ]
    },
    {
      "cell_type": "code",
      "execution_count": 26,
      "metadata": {
        "colab": {
          "base_uri": "https://localhost:8080/"
        },
        "id": "TXalCPFVFWAv",
        "outputId": "f4c34d55-8b9a-43e0-c929-0b59894a7839"
      },
      "outputs": [
        {
          "output_type": "stream",
          "name": "stderr",
          "text": [
            "........\n",
            "----------------------------------------------------------------------\n",
            "Ran 8 tests in 8.790s\n",
            "\n",
            "OK\n"
          ]
        },
        {
          "output_type": "execute_result",
          "data": {
            "text/plain": [
              "<unittest.runner.TextTestResult run=8 errors=0 failures=0>"
            ]
          },
          "metadata": {},
          "execution_count": 26
        }
      ],
      "source": [
        "# Test Environment\n",
        "import unittest\n",
        "class TestEnvironment(unittest.TestCase):\n",
        "\n",
        "    def setUp(self):\n",
        "        self.tensor = np.random.randn(4,4)\n",
        "        self.initial_graph = np.array([[0, 0], [0, 0]], dtype=int)\n",
        "        self.env = Environment(self.tensor, verbose=False)\n",
        "\n",
        "    def test_add_empty_row_and_column(self):\n",
        "        result = self.env.add_empty_row_and_column(self.initial_graph)\n",
        "        expected = np.array([[0, 0, 0], [0, 0, 0], [0, 0, 0]])\n",
        "        np.testing.assert_array_equal(result, expected)\n",
        "\n",
        "    def test_remove_row_and_column(self):\n",
        "        result = self.env.remove_row_and_column(self.initial_graph, 0)\n",
        "        expected = np.array([[0]])\n",
        "        np.testing.assert_array_equal(result, expected)\n",
        "\n",
        "    def test_step_action_addNode(self):\n",
        "        result, reward, done, truncted = self.env.step_action('addNode')\n",
        "        expected = np.array([[0, 0, 0], [0, 0, 0], [0, 0, 0]])\n",
        "        np.testing.assert_array_equal(result, expected)\n",
        "\n",
        "    def test_unconnected_fixed_nodes_remain(self):\n",
        "        actions = self.env.get_feasible_actions()\n",
        "        assert 'decrement:0:1' not in actions, \"Expected decrement:0:1 to not be in feasible set\"\n",
        "\n",
        "    def test_step_action_removeNode(self):\n",
        "        self.env.step_action('addNode')\n",
        "        result, reward, done, truncted = self.env.step_action('removeNode:2')\n",
        "        expected = np.array([[0, 0], [0, 0]])\n",
        "        np.testing.assert_array_equal(result, expected)\n",
        "\n",
        "    def test_step_action_increment(self):\n",
        "        self.env.step_action('addNode')\n",
        "        result, reward, done, truncted = self.env.step_action('increment:0:2')\n",
        "        expected = np.array([[0, 0, 2], [0, 0, 0], [2, 0, 0]])\n",
        "        np.testing.assert_array_equal(result, expected)\n",
        "\n",
        "    def test_step_action_decrement(self):\n",
        "        self.env.step_action('addNode')\n",
        "        self.env.step_action('increment:0:2')\n",
        "        result, reward, done, truncted = self.env.step_action('decrement:0:2')\n",
        "        expected = np.array([[0, 0, 0], [0, 0, 0], [0, 0, 0]])\n",
        "        np.testing.assert_array_equal(result, expected)\n",
        "\n",
        "    def test_get_feasible_actions(self):\n",
        "        self.env.step_action('addNode')\n",
        "        result = self.env.get_feasible_actions()\n",
        "        expected = ['deleteNode:2', 'increment:0:1', 'increment:0:2', 'increment:1:2']\n",
        "        self.assertEqual(set(result), set(expected))\n",
        "suite = unittest.TestLoader().loadTestsFromTestCase(TestEnvironment)\n",
        "unittest.TextTestRunner().run(suite)"
      ]
    },
    {
      "cell_type": "markdown",
      "metadata": {
        "id": "Q277g8p1glC4"
      },
      "source": [
        "## 1.1 Environment Visualization"
      ]
    },
    {
      "cell_type": "markdown",
      "metadata": {
        "id": "NRKfEK-sguA1"
      },
      "source": [
        "Plot of the Initial state"
      ]
    },
    {
      "cell_type": "code",
      "execution_count": 27,
      "metadata": {
        "colab": {
          "base_uri": "https://localhost:8080/",
          "height": 325
        },
        "id": "1vsM7zLSFWe0",
        "outputId": "d18bd5cd-56ad-4d6c-be9a-25f53c722f4d"
      },
      "outputs": [
        {
          "output_type": "display_data",
          "data": {
            "text/plain": [
              "<Figure size 300x300 with 1 Axes>"
            ],
            "image/png": "[encoded data removed]"
          },
          "metadata": {}
        },
        {
          "output_type": "stream",
          "name": "stdout",
          "text": [
            "[[0. 0.]\n",
            " [0. 0.]]\n"
          ]
        }
      ],
      "source": [
        "# Example inital\n",
        "target_tensor = np.random.randn(4,4)\n",
        "env = Environment(target_tensor, reward_breakdown=True)\n",
        "env.plot_adjacency_matrix()\n",
        "print(env.state)"
      ]
    },
    {
      "cell_type": "markdown",
      "source": [
        "Plot of State along with the ground truth"
      ],
      "metadata": {
        "id": "-OrI9TgEFBlg"
      }
    },
    {
      "cell_type": "code",
      "source": [
        "# Example usage (with ground truth visualization)\n",
        "target_tensor = np.random.randn(4,4, 4, 4)\n",
        "gt_graph = np.zeros((4, 4))\n",
        "gt_free_dimensions = np.array([4,4,4,4])\n",
        "env = Environment(target_tensor, reward_breakdown=True, gt_graph=gt_graph, gt_free_dimensions=gt_free_dimensions)\n",
        "env.plot_adjacency_matrix()"
      ],
      "metadata": {
        "colab": {
          "base_uri": "https://localhost:8080/",
          "height": 290
        },
        "id": "tw9lu1IkE9J7",
        "outputId": "9333797f-0c35-4261-b35b-7d6c621aaec1"
      },
      "execution_count": 28,
      "outputs": [
        {
          "output_type": "display_data",
          "data": {
            "text/plain": [
              "<Figure size 600x300 with 2 Axes>"
            ],
            "image/png": "[encoded data removed]"
          },
          "metadata": {}
        }
      ]
    },
    {
      "cell_type": "markdown",
      "metadata": {
        "id": "oQvETUI6gdtN"
      },
      "source": [
        "Plot of TN graph after a random trajectory of 20 time steps"
      ]
    },
    {
      "cell_type": "code",
      "execution_count": 29,
      "metadata": {
        "id": "RE9oRSzIKLLf",
        "colab": {
          "base_uri": "https://localhost:8080/",
          "height": 1000
        },
        "outputId": "f04ca6a5-8ff4-4fd6-cbb1-6f771251a8c0"
      },
      "outputs": [
        {
          "output_type": "stream",
          "name": "stdout",
          "text": [
            "Random agent\n",
            "State: \n",
            "[[0. 0. 0. 0.]\n",
            " [0. 0. 0. 0.]\n",
            " [0. 0. 0. 0.]\n",
            " [0. 0. 0. 0.]]\n",
            "\n",
            "[0/20] Action: addNode | Reward: -1.10 (loss: 1.10 cr: 0.00) Feasible: ['addNode', 'increment:0:1', 'increment:0:2', 'increment:0:3', 'increment:1:2', 'increment:1:3', 'increment:2:3']\n"
          ]
        },
        {
          "output_type": "display_data",
          "data": {
            "text/plain": [
              "<Figure size 600x300 with 2 Axes>"
            ],
            "image/png": "[encoded data removed]"
          },
          "metadata": {}
        },
        {
          "output_type": "stream",
          "name": "stdout",
          "text": [
            "State: \n",
            "[[0. 0. 0. 0. 0.]\n",
            " [0. 0. 0. 0. 0.]\n",
            " [0. 0. 0. 0. 0.]\n",
            " [0. 0. 0. 0. 0.]\n",
            " [0. 0. 0. 0. 0.]]\n",
            "\n",
            "[1/20] Action: increment:1:4 | Reward: -4.42 (loss: 4.42 cr: 0.00) Feasible: ['deleteNode:4', 'increment:0:1', 'increment:0:2', 'increment:0:3', 'increment:0:4', 'increment:1:2', 'increment:1:3', 'increment:1:4', 'increment:2:3', 'increment:2:4', 'increment:3:4']\n",
            "State: \n",
            "[[0. 0. 0. 0. 0.]\n",
            " [0. 0. 0. 0. 2.]\n",
            " [0. 0. 0. 0. 0.]\n",
            " [0. 0. 0. 0. 0.]\n",
            " [0. 2. 0. 0. 0.]]\n",
            "\n",
            "[2/20] Action: increment:1:4 | Reward: -8.49 (loss: 8.49 cr: 0.00) Feasible: ['addNode', 'deleteNode:4', 'increment:0:1', 'increment:0:2', 'increment:0:3', 'increment:0:4', 'increment:1:2', 'increment:1:3', 'increment:1:4', 'decrement:1:4', 'increment:2:3', 'increment:2:4', 'increment:3:4']\n",
            "State: \n",
            "[[0. 0. 0. 0. 0.]\n",
            " [0. 0. 0. 0. 3.]\n",
            " [0. 0. 0. 0. 0.]\n",
            " [0. 0. 0. 0. 0.]\n",
            " [0. 3. 0. 0. 0.]]\n",
            "\n",
            "[3/20] Action: increment:3:4 | Reward: -1.94 (loss: 1.94 cr: 0.00) Feasible: ['addNode', 'deleteNode:4', 'increment:0:1', 'increment:0:2', 'increment:0:3', 'increment:0:4', 'increment:1:2', 'increment:1:3', 'increment:1:4', 'decrement:1:4', 'increment:2:3', 'increment:2:4', 'increment:3:4']\n",
            "State: \n",
            "[[0. 0. 0. 0. 0.]\n",
            " [0. 0. 0. 0. 3.]\n",
            " [0. 0. 0. 0. 0.]\n",
            " [0. 0. 0. 0. 2.]\n",
            " [0. 3. 0. 2. 0.]]\n",
            "\n",
            "[4/20] Action: increment:1:3 | Reward: -18.72 (loss: 18.72 cr: 0.00) Feasible: ['addNode', 'deleteNode:4', 'increment:0:1', 'increment:0:2', 'increment:0:3', 'increment:0:4', 'increment:1:2', 'increment:1:3', 'increment:1:4', 'decrement:1:4', 'increment:2:3', 'increment:2:4', 'increment:3:4', 'decrement:3:4']\n",
            "State: \n",
            "[[0. 0. 0. 0. 0.]\n",
            " [0. 0. 0. 2. 3.]\n",
            " [0. 0. 0. 0. 0.]\n",
            " [0. 2. 0. 0. 2.]\n",
            " [0. 3. 0. 2. 0.]]\n",
            "\n",
            "[5/20] Action: decrement:1:3 | Reward: -16.63 (loss: 16.63 cr: 0.00) Feasible: ['addNode', 'deleteNode:4', 'increment:0:1', 'increment:0:2', 'increment:0:3', 'increment:0:4', 'increment:1:2', 'increment:1:3', 'decrement:1:3', 'increment:1:4', 'decrement:1:4', 'increment:2:3', 'increment:2:4', 'increment:3:4', 'decrement:3:4']\n"
          ]
        },
        {
          "output_type": "display_data",
          "data": {
            "text/plain": [
              "<Figure size 600x300 with 2 Axes>"
            ],
            "image/png": "[encoded data removed]"
          },
          "metadata": {}
        },
        {
          "output_type": "stream",
          "name": "stdout",
          "text": [
            "State: \n",
            "[[0. 0. 0. 0. 0.]\n",
            " [0. 0. 0. 0. 3.]\n",
            " [0. 0. 0. 0. 0.]\n",
            " [0. 0. 0. 0. 2.]\n",
            " [0. 3. 0. 2. 0.]]\n",
            "\n",
            "[6/20] Action: increment:2:4 | Reward: -2.95 (loss: 2.95 cr: 0.00) Feasible: ['addNode', 'deleteNode:4', 'increment:0:1', 'increment:0:2', 'increment:0:3', 'increment:0:4', 'increment:1:2', 'increment:1:3', 'increment:1:4', 'decrement:1:4', 'increment:2:3', 'increment:2:4', 'increment:3:4', 'decrement:3:4']\n",
            "State: \n",
            "[[0. 0. 0. 0. 0.]\n",
            " [0. 0. 0. 0. 3.]\n",
            " [0. 0. 0. 0. 2.]\n",
            " [0. 0. 0. 0. 2.]\n",
            " [0. 3. 2. 2. 0.]]\n",
            "\n",
            "[7/20] Action: deleteNode:4 | Reward: -22.19 (loss: 22.19 cr: 0.00) Feasible: ['addNode', 'deleteNode:4', 'increment:0:1', 'increment:0:2', 'increment:0:3', 'increment:0:4', 'increment:1:2', 'increment:1:3', 'increment:1:4', 'decrement:1:4', 'increment:2:3', 'increment:2:4', 'decrement:2:4', 'increment:3:4', 'decrement:3:4']\n",
            "State: \n",
            "[[0. 0. 0. 0. 0.]\n",
            " [0. 0. 0. 0. 3.]\n",
            " [0. 0. 0. 0. 2.]\n",
            " [0. 0. 0. 0. 2.]\n",
            " [0. 3. 2. 2. 0.]]\n",
            "\n",
            "[8/20] Action: increment:1:3 | Reward: -13.88 (loss: 13.88 cr: 0.00) Feasible: ['addNode', 'deleteNode:4', 'increment:0:1', 'increment:0:2', 'increment:0:3', 'increment:0:4', 'increment:1:2', 'increment:1:3', 'increment:1:4', 'decrement:1:4', 'increment:2:3', 'increment:2:4', 'decrement:2:4', 'increment:3:4', 'decrement:3:4']\n",
            "State: \n",
            "[[0. 0. 0. 0. 0.]\n",
            " [0. 0. 0. 2. 3.]\n",
            " [0. 0. 0. 0. 2.]\n",
            " [0. 2. 0. 0. 2.]\n",
            " [0. 3. 2. 2. 0.]]\n",
            "\n",
            "[9/20] Action: increment:1:3 | Reward: -32.53 (loss: 32.53 cr: 0.00) Feasible: ['addNode', 'deleteNode:4', 'increment:0:1', 'increment:0:2', 'increment:0:3', 'increment:0:4', 'increment:1:2', 'increment:1:3', 'decrement:1:3', 'increment:1:4', 'decrement:1:4', 'increment:2:3', 'increment:2:4', 'decrement:2:4', 'increment:3:4', 'decrement:3:4']\n",
            "State: \n",
            "[[0. 0. 0. 0. 0.]\n",
            " [0. 0. 0. 3. 3.]\n",
            " [0. 0. 0. 0. 2.]\n",
            " [0. 3. 0. 0. 2.]\n",
            " [0. 3. 2. 2. 0.]]\n",
            "\n",
            "[10/20] Action: deleteNode:4 | Reward: -232.86 (loss: 232.86 cr: 0.00) Feasible: ['addNode', 'deleteNode:4', 'increment:0:1', 'increment:0:2', 'increment:0:3', 'increment:0:4', 'increment:1:2', 'increment:1:3', 'decrement:1:3', 'increment:1:4', 'decrement:1:4', 'increment:2:3', 'increment:2:4', 'decrement:2:4', 'increment:3:4', 'decrement:3:4']\n"
          ]
        },
        {
          "output_type": "display_data",
          "data": {
            "text/plain": [
              "<Figure size 600x300 with 2 Axes>"
            ],
            "image/png": "[encoded data removed]"
          },
          "metadata": {}
        },
        {
          "output_type": "stream",
          "name": "stdout",
          "text": [
            "State: \n",
            "[[0. 0. 0. 0. 0.]\n",
            " [0. 0. 0. 3. 3.]\n",
            " [0. 0. 0. 0. 2.]\n",
            " [0. 3. 0. 0. 2.]\n",
            " [0. 3. 2. 2. 0.]]\n",
            "\n",
            "[11/20] Action: decrement:3:4 | Reward: -24.65 (loss: 24.65 cr: 0.00) Feasible: ['addNode', 'deleteNode:4', 'increment:0:1', 'increment:0:2', 'increment:0:3', 'increment:0:4', 'increment:1:2', 'increment:1:3', 'decrement:1:3', 'increment:1:4', 'decrement:1:4', 'increment:2:3', 'increment:2:4', 'decrement:2:4', 'increment:3:4', 'decrement:3:4']\n",
            "State: \n",
            "[[0. 0. 0. 0. 0.]\n",
            " [0. 0. 0. 3. 3.]\n",
            " [0. 0. 0. 0. 2.]\n",
            " [0. 3. 0. 0. 0.]\n",
            " [0. 3. 2. 0. 0.]]\n",
            "\n",
            "[12/20] Action: increment:1:2 | Reward: -40.48 (loss: 40.48 cr: 0.00) Feasible: ['addNode', 'deleteNode:4', 'increment:0:1', 'increment:0:2', 'increment:0:3', 'increment:0:4', 'increment:1:2', 'increment:1:3', 'decrement:1:3', 'increment:1:4', 'decrement:1:4', 'increment:2:3', 'increment:2:4', 'decrement:2:4', 'increment:3:4']\n",
            "State: \n",
            "[[0. 0. 0. 0. 0.]\n",
            " [0. 0. 2. 3. 3.]\n",
            " [0. 2. 0. 0. 2.]\n",
            " [0. 3. 0. 0. 0.]\n",
            " [0. 3. 2. 0. 0.]]\n",
            "\n",
            "[13/20] Action: increment:2:4 | Reward: -4.24 (loss: 4.24 cr: 0.00) Feasible: ['addNode', 'deleteNode:4', 'increment:0:1', 'increment:0:2', 'increment:0:3', 'increment:0:4', 'increment:1:2', 'decrement:1:2', 'increment:1:3', 'decrement:1:3', 'increment:1:4', 'decrement:1:4', 'increment:2:3', 'increment:2:4', 'decrement:2:4', 'increment:3:4']\n",
            "State: \n",
            "[[0. 0. 0. 0. 0.]\n",
            " [0. 0. 2. 3. 3.]\n",
            " [0. 2. 0. 0. 3.]\n",
            " [0. 3. 0. 0. 0.]\n",
            " [0. 3. 3. 0. 0.]]\n",
            "\n",
            "[14/20] Action: decrement:1:2 | Reward: -38.12 (loss: 38.12 cr: 0.00) Feasible: ['addNode', 'deleteNode:4', 'increment:0:1', 'increment:0:2', 'increment:0:3', 'increment:0:4', 'increment:1:2', 'decrement:1:2', 'increment:1:3', 'decrement:1:3', 'increment:1:4', 'decrement:1:4', 'increment:2:3', 'increment:2:4', 'decrement:2:4', 'increment:3:4']\n",
            "State: \n",
            "[[0. 0. 0. 0. 0.]\n",
            " [0. 0. 0. 3. 3.]\n",
            " [0. 0. 0. 0. 3.]\n",
            " [0. 3. 0. 0. 0.]\n",
            " [0. 3. 3. 0. 0.]]\n",
            "\n",
            "[15/20] Action: increment:2:3 | Reward: -48.34 (loss: 48.34 cr: 0.00) Feasible: ['addNode', 'deleteNode:4', 'increment:0:1', 'increment:0:2', 'increment:0:3', 'increment:0:4', 'increment:1:2', 'increment:1:3', 'decrement:1:3', 'increment:1:4', 'decrement:1:4', 'increment:2:3', 'increment:2:4', 'decrement:2:4', 'increment:3:4']\n"
          ]
        },
        {
          "output_type": "display_data",
          "data": {
            "text/plain": [
              "<Figure size 600x300 with 2 Axes>"
            ],
            "image/png": "[encoded data removed]"
          },
          "metadata": {}
        },
        {
          "output_type": "stream",
          "name": "stdout",
          "text": [
            "State: \n",
            "[[0. 0. 0. 0. 0.]\n",
            " [0. 0. 0. 3. 3.]\n",
            " [0. 0. 0. 2. 3.]\n",
            " [0. 3. 2. 0. 0.]\n",
            " [0. 3. 3. 0. 0.]]\n",
            "\n",
            "[16/20] Action: deleteNode:4 | Reward: -15.18 (loss: 15.18 cr: 0.00) Feasible: ['addNode', 'deleteNode:4', 'increment:0:1', 'increment:0:2', 'increment:0:3', 'increment:0:4', 'increment:1:2', 'increment:1:3', 'decrement:1:3', 'increment:1:4', 'decrement:1:4', 'increment:2:3', 'decrement:2:3', 'increment:2:4', 'decrement:2:4', 'increment:3:4']\n",
            "State: \n",
            "[[0. 0. 0. 0. 0.]\n",
            " [0. 0. 0. 3. 3.]\n",
            " [0. 0. 0. 2. 3.]\n",
            " [0. 3. 2. 0. 0.]\n",
            " [0. 3. 3. 0. 0.]]\n",
            "\n",
            "[17/20] Action: increment:1:2 | Reward: -100.62 (loss: 100.62 cr: 0.00) Feasible: ['addNode', 'deleteNode:4', 'increment:0:1', 'increment:0:2', 'increment:0:3', 'increment:0:4', 'increment:1:2', 'increment:1:3', 'decrement:1:3', 'increment:1:4', 'decrement:1:4', 'increment:2:3', 'decrement:2:3', 'increment:2:4', 'decrement:2:4', 'increment:3:4']\n",
            "State: \n",
            "[[0. 0. 0. 0. 0.]\n",
            " [0. 0. 2. 3. 3.]\n",
            " [0. 2. 0. 2. 3.]\n",
            " [0. 3. 2. 0. 0.]\n",
            " [0. 3. 3. 0. 0.]]\n",
            "\n",
            "[18/20] Action: increment:0:4 | Reward: -220.78 (loss: 220.78 cr: 0.00) Feasible: ['addNode', 'deleteNode:4', 'increment:0:1', 'increment:0:2', 'increment:0:3', 'increment:0:4', 'increment:1:2', 'decrement:1:2', 'increment:1:3', 'decrement:1:3', 'increment:1:4', 'decrement:1:4', 'increment:2:3', 'decrement:2:3', 'increment:2:4', 'decrement:2:4', 'increment:3:4']\n",
            "State: \n",
            "[[0. 0. 0. 0. 2.]\n",
            " [0. 0. 2. 3. 3.]\n",
            " [0. 2. 0. 2. 3.]\n",
            " [0. 3. 2. 0. 0.]\n",
            " [2. 3. 3. 0. 0.]]\n",
            "\n",
            "[19/20] Action: increment:0:1 | Reward: -151.50 (loss: 151.50 cr: 0.00) Feasible: ['addNode', 'deleteNode:4', 'increment:0:1', 'increment:0:2', 'increment:0:3', 'increment:0:4', 'decrement:0:4', 'increment:1:2', 'decrement:1:2', 'increment:1:3', 'decrement:1:3', 'increment:1:4', 'decrement:1:4', 'increment:2:3', 'decrement:2:3', 'increment:2:4', 'decrement:2:4', 'increment:3:4']\n"
          ]
        }
      ],
      "source": [
        "# Example usage\n",
        "import random\n",
        "env.reset()\n",
        "n_steps = 20\n",
        "print(\"Random agent\")\n",
        "for t in range(n_steps):\n",
        "  print(f\"State: \\n{env.state}\\n\")\n",
        "  actions = env.get_feasible_actions()\n",
        "  random_action = random.choice(actions)  # Select a random action from the feasible actions\n",
        "  state, reward, done, truncted, reward_breakdown = env.step_action(random_action)\n",
        "  print(f\"[{t}/{n_steps}] Action: {random_action} | Reward: {reward:.2f} (loss: {reward_breakdown[0]:.2f} cr: {reward_breakdown[1]:.2f}) Feasible: {actions}\")\n",
        "  if t % 5 == 0:\n",
        "    env.plot_adjacency_matrix()"
      ]
    },
    {
      "cell_type": "markdown",
      "source": [
        "# 2. Training"
      ],
      "metadata": {
        "id": "H2keR9zTrg3X"
      }
    },
    {
      "cell_type": "markdown",
      "source": [
        "## 2.1 Utils\n"
      ],
      "metadata": {
        "id": "htEvlY9ProJ6"
      }
    },
    {
      "cell_type": "code",
      "source": [
        "def get_tn_params(adj_mat: np.array, free_dims_vec: np.array) -> int:\n",
        "    \"\"\"\n",
        "    Calculate the total number of parameters in a tensor network.\n",
        "\n",
        "    Parameters:\n",
        "    adj_mat (numpy.ndarray): Adjacency matrix representing the tensor network.\n",
        "    free_dims_vec (numpy.ndarray): Vector containing the dimensions of the free legs in the network.\n",
        "\n",
        "    Returns:\n",
        "    int: Total number of parameters in the tensor network.\n",
        "    \"\"\"\n",
        "\n",
        "    num_tensors = len(adj_mat)\n",
        "    total_params = 0\n",
        "\n",
        "    # Calculate parameters for each tensor\n",
        "    for i in range(num_tensors):\n",
        "        # dims = [free_dims_vec[i]] + list(adj_mat[i])\n",
        "        dims = list(adj_mat[i][adj_mat[i] !=0])\n",
        "        dims += [free_dims_vec[i]] if i < len(free_dims_vec) and free_dims_vec[i] > 0 else []\n",
        "        total_params += np.prod(dims)\n",
        "\n",
        "    return int(total_params)"
      ],
      "metadata": {
        "id": "hhhc8x7ZrnOK"
      },
      "execution_count": 30,
      "outputs": []
    },
    {
      "cell_type": "markdown",
      "source": [
        "## 2.2 Agent Base Class"
      ],
      "metadata": {
        "id": "_ULNdVyEsLJW"
      }
    },
    {
      "cell_type": "code",
      "source": [
        "class Agent():\n",
        "    def __init__(self):\n",
        "        pass\n",
        "    def agent_step(self, prev_state, prev_action, prev_reward, current_state, done, feasible_actions):\n",
        "        \"\"\" A learning step for the agent given a state, action, reward, next state and done\n",
        "        Args:\n",
        "            prev_state (int): the state observation from the enviromnents last step\n",
        "            prev_action (int): the action taken given prev_state\n",
        "            prev_reward (float): The reward received for taking prev_action in prev_state\n",
        "            current_state (int): The state received for taking prev_action in prev_state\n",
        "            done (bool): Indicator that the episode is done\n",
        "        Returns:\n",
        "            action (int): the action the agent is taking given current_state\n",
        "        \"\"\"\n",
        "        raise NotImplementedError\n"
      ],
      "metadata": {
        "id": "F3YojuC8sG5v"
      },
      "execution_count": 36,
      "outputs": []
    },
    {
      "cell_type": "markdown",
      "source": [
        "## 2.2 SARSA agent"
      ],
      "metadata": {
        "id": "0BuqPN4nkeUN"
      }
    },
    {
      "cell_type": "code",
      "execution_count": 37,
      "metadata": {
        "id": "wuyGsHlPB6Y7"
      },
      "outputs": [],
      "source": [
        "class SarsaAgent(Agent):\n",
        "\n",
        "    def __init__(self, agent_init_info: dict):\n",
        "        super().__init__()\n",
        "        self.epsilon = agent_init_info[\"epsilon\"]\n",
        "        self.step_size = agent_init_info[\"step_size\"]\n",
        "        self.discount = agent_init_info[\"discount\"]\n",
        "        self.q = dict()\n",
        "\n",
        "    def current_policy(self, current_state, feasible_actions):\n",
        "        # Choose a random action with probability epsilon\n",
        "        if len(self.q) == 0  or np.random.random() < epsilon:\n",
        "          return random.choice(feasible_actions)\n",
        "\n",
        "        max = -np.inf\n",
        "        a_opt = \"\"\n",
        "        bo=False\n",
        "\n",
        "        for qa in self.q:\n",
        "          if qa[0] == str(current_state) and self.q[qa] > max:\n",
        "            max = self.q[qa]\n",
        "            a_opt = qa[1]\n",
        "            bo=True\n",
        "        if a_opt == \"\":\n",
        "          a_opt = random.choice(feasible_actions)\n",
        "        return a_opt\n",
        "\n",
        "    def agent_step(self, prev_state, prev_action, prev_reward, current_state, done, feasible_actions):\n",
        "        \"\"\" A learning step for the agent given SARSA\n",
        "        Args:\n",
        "            prev_state (int): the state observation from the enviromnents last step\n",
        "            prev_action (int): the action taken given prev_state\n",
        "            prev_reward (float): The reward received for taking prev_action in prev_state\n",
        "            current_state (int): The state received for taking prev_action in prev_state\n",
        "            done (bool): Indicator that the episode is done\n",
        "        Returns:\n",
        "            action (int): the action the agent is taking given current_state\n",
        "        \"\"\"\n",
        "\n",
        "        action = self.current_policy(current_state, feasible_actions)\n",
        "\n",
        "        if not (str(prev_state),prev_action) in self.q:\n",
        "            self.q[(str(prev_state),prev_action)] = 0\n",
        "        if not  (str(current_state),action) in self.q:\n",
        "            self.q[(str(current_state),action)] = 0\n",
        "\n",
        "        if not done:\n",
        "          # Update Q-value for the previous state-action pair using the SARSA update rule\n",
        "          self.q[(str(prev_state),prev_action)] += self.step_size * (prev_reward + self.discount *\n",
        "                                                                     self.q[(str(current_state),action)] - self.q[(str(prev_state),prev_action)])\n",
        "          #self.q[(str(prev_state),prev_action)] = self.q[(str(prev_state),prev_action)].detach().item()\n",
        "        else:\n",
        "          # If the episode is done, update Q-value for the previous state-action pair with terminal reward\n",
        "          self.q[(str(prev_state),prev_action)] += self.step_size * (prev_reward - self.q[(str(prev_state),prev_action)])\n",
        "          #self.q[(str(prev_state),prev_action)] = self.q[(str(prev_state),prev_action)].detach().item()\n",
        "        return action\n"
      ]
    },
    {
      "cell_type": "code",
      "source": [
        "def train_episode(agent, env):\n",
        "    \"\"\"\n",
        "    Input:\n",
        "        agent (Agent): an agent of the class Agent implemented above\n",
        "        env (DiscreteEnv): The FloorIsLava environment\n",
        "    Returns:\n",
        "        states (list): the sequence of states in the generated episode\n",
        "        actions (list): the sequence of actions in the generated episode\n",
        "        rewards (list): the sequence of rewards in the generated episode\n",
        "    \"\"\"\n",
        "    states = []\n",
        "    rewards = []\n",
        "    actions = []\n",
        "    done = False\n",
        "    current_state = env.reset()\n",
        "    states.append(current_state)\n",
        "    action = agent.current_policy(current_state, env.get_feasible_actions())\n",
        "    actions.append(action)\n",
        "    i = 0\n",
        "    while not done:\n",
        "        i +=1\n",
        "        feasible_actions = env.get_feasible_actions()\n",
        "        next_state, reward, truncated, done = env.step_action(action)\n",
        "        action = agent.agent_step(current_state, action, reward, next_state, done, feasible_actions)\n",
        "        done = done or truncated\n",
        "        actions.append(action)\n",
        "        rewards.append(reward)\n",
        "        states.append(next_state)\n",
        "        current_state = next_state\n",
        "        if i % 10 == 0:\n",
        "          print(f\" Action: {action} | Reward: {reward} | Feasible: {feasible_actions}\")\n",
        "          env.plot_adjacency_matrix()\n",
        "    return states, actions, rewards"
      ],
      "metadata": {
        "id": "SqC19Y1plm8Q"
      },
      "execution_count": 38,
      "outputs": []
    },
    {
      "cell_type": "code",
      "source": [
        "def td_control(env, agent_class, epsilon, step_size, run, num_episodes=100, discount=0.99):\n",
        "    agent_info = {\n",
        "      \"epsilon\": epsilon,\n",
        "      \"step_size\": step_size,\n",
        "      \"discount\": discount\n",
        "    }\n",
        "    agent = agent_class(agent_info)\n",
        "    all_returns = []\n",
        "\n",
        "    for j in (range(num_episodes)):\n",
        "      states, actions, rewards = train_episode(agent, env)\n",
        "      rewards=torch.tensor(rewards).detach().numpy()\n",
        "      all_returns.append(np.sum(rewards))\n",
        "    return all_returns, agent,states[-1]"
      ],
      "metadata": {
        "id": "AihZhefKl0YB"
      },
      "execution_count": 42,
      "outputs": []
    },
    {
      "cell_type": "code",
      "source": [
        "def get_problem(prob_num=1):\n",
        "\n",
        "  # Target a (Tucker)\n",
        "  if prob_num == 1:\n",
        "    dim_a, dim_b, dim_c, dim_r = 4, 4, 4, 2\n",
        "    a = np.random.randn(dim_a, dim_r)\n",
        "    b = np.random.randn(dim_b, dim_r)\n",
        "    c = np.random.randn(dim_c, dim_r)\n",
        "    g = np.random.randn(dim_r, dim_r, dim_r)\n",
        "    target_tensor = np.einsum('ai, bj, ck, ijk->abc', a, b, c, g)\n",
        "    gt_graph = np.array([\n",
        "        [0, 0, 0, dim_r],\n",
        "        [0, 0, 0, dim_r],\n",
        "        [0, 0, 0, dim_r],\n",
        "        [dim_r, dim_r, dim_r, 0],\n",
        "    ])\n",
        "    gt_free_dimensions = np.array([dim_a, dim_b, dim_c])\n",
        "    gt_params = get_tn_params(gt_graph, gt_free_dimensions)\n",
        "    gt_compression = gt_params / np.prod(gt_free_dimensions)\n",
        "    return target_tensor, gt_graph, gt_free_dimensions, gt_compression"
      ],
      "metadata": {
        "id": "K1ulCq4Rolef"
      },
      "execution_count": 43,
      "outputs": []
    },
    {
      "cell_type": "code",
      "source": [
        "## Running SARSA on the environment on 5 different seeds\n",
        "\n",
        "epsilon = 0.2 #@param {allow-input: true}\n",
        "step_size = 0.1 #@param {allow-input: true}\n",
        "discount = 0.8 #@param\n",
        "num_runs =  1 #@param {allow-input: true}\n",
        "num_episodes = 50 #@param {allow-input: true}\n",
        "\n",
        "# Setup env\n",
        "target_tensor, gt_graph, gt_free_dimensions, gt_compression = get_problem(1)\n",
        "env = Environment(target_tensor, gt_graph=gt_graph, gt_free_dimensions=gt_free_dimensions)\n",
        "\n",
        "sarsa_returns = []\n",
        "sarsa_agents = []\n",
        "for i in tqdm(range(num_runs)):\n",
        "    returns, agent,last_state = td_control(env, agent_class=SarsaAgent, epsilon=epsilon, step_size=step_size, run=i, num_episodes=num_episodes, discount=discount)\n",
        "    sarsa_returns.append(returns)\n",
        "    sarsa_agents.append(agent)"
      ],
      "metadata": {
        "colab": {
          "base_uri": "https://localhost:8080/",
          "height": 736
        },
        "id": "TXVf3w99mPn0",
        "outputId": "6b96ae0e-bc9a-4625-eec5-efea1ca7c154"
      },
      "execution_count": 44,
      "outputs": [
        {
          "output_type": "stream",
          "name": "stderr",
          "text": [
            "\r  0%|          | 0/1 [00:00<?, ?it/s]"
          ]
        },
        {
          "output_type": "stream",
          "name": "stdout",
          "text": [
            " Action: deleteNode:3 | Reward: -1042.6278462105756 | Feasible: ['addNode', 'deleteNode:3', 'deleteNode:4', 'increment:0:1', 'decrement:0:1', 'increment:0:2', 'decrement:0:2', 'increment:0:3', 'increment:0:4', 'increment:1:2', 'decrement:1:2', 'increment:1:3', 'increment:1:4', 'decrement:1:4', 'increment:2:3', 'decrement:2:3', 'increment:2:4', 'increment:3:4']\n"
          ]
        },
        {
          "output_type": "display_data",
          "data": {
            "text/plain": [
              "<Figure size 600x300 with 2 Axes>"
            ],
            "image/png": "[encoded data removed]"
          },
          "metadata": {}
        },
        {
          "output_type": "stream",
          "name": "stderr",
          "text": [
            "\r  0%|          | 0/1 [00:25<?, ?it/s]\n"
          ]
        },
        {
          "output_type": "error",
          "ename": "KeyboardInterrupt",
          "evalue": "ignored",
          "traceback": [
            "\u001b[0;31m---------------------------------------------------------------------------\u001b[0m",
            "\u001b[0;31mKeyboardInterrupt\u001b[0m                         Traceback (most recent call last)",
            "\u001b[0;32m<ipython-input-44-75fc2a5d5c3c>\u001b[0m in \u001b[0;36m<cell line: 15>\u001b[0;34m()\u001b[0m\n\u001b[1;32m     14\u001b[0m \u001b[0msarsa_agents\u001b[0m \u001b[0;34m=\u001b[0m \u001b[0;34m[\u001b[0m\u001b[0;34m]\u001b[0m\u001b[0;34m\u001b[0m\u001b[0;34m\u001b[0m\u001b[0m\n\u001b[1;32m     15\u001b[0m \u001b[0;32mfor\u001b[0m \u001b[0mi\u001b[0m \u001b[0;32min\u001b[0m \u001b[0mtqdm\u001b[0m\u001b[0;34m(\u001b[0m\u001b[0mrange\u001b[0m\u001b[0;34m(\u001b[0m\u001b[0mnum_runs\u001b[0m\u001b[0;34m)\u001b[0m\u001b[0;34m)\u001b[0m\u001b[0;34m:\u001b[0m\u001b[0;34m\u001b[0m\u001b[0;34m\u001b[0m\u001b[0m\n\u001b[0;32m---> 16\u001b[0;31m     \u001b[0mreturns\u001b[0m\u001b[0;34m,\u001b[0m \u001b[0magent\u001b[0m\u001b[0;34m,\u001b[0m\u001b[0mlast_state\u001b[0m \u001b[0;34m=\u001b[0m \u001b[0mtd_control\u001b[0m\u001b[0;34m(\u001b[0m\u001b[0menv\u001b[0m\u001b[0;34m,\u001b[0m \u001b[0magent_class\u001b[0m\u001b[0;34m=\u001b[0m\u001b[0mSarsaAgent\u001b[0m\u001b[0;34m,\u001b[0m \u001b[0mepsilon\u001b[0m\u001b[0;34m=\u001b[0m\u001b[0mepsilon\u001b[0m\u001b[0;34m,\u001b[0m \u001b[0mstep_size\u001b[0m\u001b[0;34m=\u001b[0m\u001b[0mstep_size\u001b[0m\u001b[0;34m,\u001b[0m \u001b[0mrun\u001b[0m\u001b[0;34m=\u001b[0m\u001b[0mi\u001b[0m\u001b[0;34m,\u001b[0m \u001b[0mnum_episodes\u001b[0m\u001b[0;34m=\u001b[0m\u001b[0mnum_episodes\u001b[0m\u001b[0;34m,\u001b[0m \u001b[0mdiscount\u001b[0m\u001b[0;34m=\u001b[0m\u001b[0mdiscount\u001b[0m\u001b[0;34m)\u001b[0m\u001b[0;34m\u001b[0m\u001b[0;34m\u001b[0m\u001b[0m\n\u001b[0m\u001b[1;32m     17\u001b[0m     \u001b[0msarsa_returns\u001b[0m\u001b[0;34m.\u001b[0m\u001b[0mappend\u001b[0m\u001b[0;34m(\u001b[0m\u001b[0mreturns\u001b[0m\u001b[0;34m)\u001b[0m\u001b[0;34m\u001b[0m\u001b[0;34m\u001b[0m\u001b[0m\n\u001b[1;32m     18\u001b[0m     \u001b[0msarsa_agents\u001b[0m\u001b[0;34m.\u001b[0m\u001b[0mappend\u001b[0m\u001b[0;34m(\u001b[0m\u001b[0magent\u001b[0m\u001b[0;34m)\u001b[0m\u001b[0;34m\u001b[0m\u001b[0;34m\u001b[0m\u001b[0m\n",
            "\u001b[0;32m<ipython-input-42-4a5cd5f63e71>\u001b[0m in \u001b[0;36mtd_control\u001b[0;34m(env, agent_class, epsilon, step_size, run, num_episodes, discount)\u001b[0m\n\u001b[1;32m      9\u001b[0m \u001b[0;34m\u001b[0m\u001b[0m\n\u001b[1;32m     10\u001b[0m     \u001b[0;32mfor\u001b[0m \u001b[0mj\u001b[0m \u001b[0;32min\u001b[0m \u001b[0;34m(\u001b[0m\u001b[0mrange\u001b[0m\u001b[0;34m(\u001b[0m\u001b[0mnum_episodes\u001b[0m\u001b[0;34m)\u001b[0m\u001b[0;34m)\u001b[0m\u001b[0;34m:\u001b[0m\u001b[0;34m\u001b[0m\u001b[0;34m\u001b[0m\u001b[0m\n\u001b[0;32m---> 11\u001b[0;31m       \u001b[0mstates\u001b[0m\u001b[0;34m,\u001b[0m \u001b[0mactions\u001b[0m\u001b[0;34m,\u001b[0m \u001b[0mrewards\u001b[0m \u001b[0;34m=\u001b[0m \u001b[0mtrain_episode\u001b[0m\u001b[0;34m(\u001b[0m\u001b[0magent\u001b[0m\u001b[0;34m,\u001b[0m \u001b[0menv\u001b[0m\u001b[0;34m)\u001b[0m\u001b[0;34m\u001b[0m\u001b[0;34m\u001b[0m\u001b[0m\n\u001b[0m\u001b[1;32m     12\u001b[0m       \u001b[0mrewards\u001b[0m\u001b[0;34m=\u001b[0m\u001b[0mtorch\u001b[0m\u001b[0;34m.\u001b[0m\u001b[0mtensor\u001b[0m\u001b[0;34m(\u001b[0m\u001b[0mrewards\u001b[0m\u001b[0;34m)\u001b[0m\u001b[0;34m.\u001b[0m\u001b[0mdetach\u001b[0m\u001b[0;34m(\u001b[0m\u001b[0;34m)\u001b[0m\u001b[0;34m.\u001b[0m\u001b[0mnumpy\u001b[0m\u001b[0;34m(\u001b[0m\u001b[0;34m)\u001b[0m\u001b[0;34m\u001b[0m\u001b[0;34m\u001b[0m\u001b[0m\n\u001b[1;32m     13\u001b[0m       \u001b[0mall_returns\u001b[0m\u001b[0;34m.\u001b[0m\u001b[0mappend\u001b[0m\u001b[0;34m(\u001b[0m\u001b[0mnp\u001b[0m\u001b[0;34m.\u001b[0m\u001b[0msum\u001b[0m\u001b[0;34m(\u001b[0m\u001b[0mrewards\u001b[0m\u001b[0;34m)\u001b[0m\u001b[0;34m)\u001b[0m\u001b[0;34m\u001b[0m\u001b[0;34m\u001b[0m\u001b[0m\n",
            "\u001b[0;32m<ipython-input-38-7ddf175ea54e>\u001b[0m in \u001b[0;36mtrain_episode\u001b[0;34m(agent, env)\u001b[0m\n\u001b[1;32m     21\u001b[0m         \u001b[0mi\u001b[0m \u001b[0;34m+=\u001b[0m\u001b[0;36m1\u001b[0m\u001b[0;34m\u001b[0m\u001b[0;34m\u001b[0m\u001b[0m\n\u001b[1;32m     22\u001b[0m         \u001b[0mfeasible_actions\u001b[0m \u001b[0;34m=\u001b[0m \u001b[0menv\u001b[0m\u001b[0;34m.\u001b[0m\u001b[0mget_feasible_actions\u001b[0m\u001b[0;34m(\u001b[0m\u001b[0;34m)\u001b[0m\u001b[0;34m\u001b[0m\u001b[0;34m\u001b[0m\u001b[0m\n\u001b[0;32m---> 23\u001b[0;31m         \u001b[0mnext_state\u001b[0m\u001b[0;34m,\u001b[0m \u001b[0mreward\u001b[0m\u001b[0;34m,\u001b[0m \u001b[0mtruncated\u001b[0m\u001b[0;34m,\u001b[0m \u001b[0mdone\u001b[0m \u001b[0;34m=\u001b[0m \u001b[0menv\u001b[0m\u001b[0;34m.\u001b[0m\u001b[0mstep_action\u001b[0m\u001b[0;34m(\u001b[0m\u001b[0maction\u001b[0m\u001b[0;34m)\u001b[0m\u001b[0;34m\u001b[0m\u001b[0;34m\u001b[0m\u001b[0m\n\u001b[0m\u001b[1;32m     24\u001b[0m         \u001b[0maction\u001b[0m \u001b[0;34m=\u001b[0m \u001b[0magent\u001b[0m\u001b[0;34m.\u001b[0m\u001b[0magent_step\u001b[0m\u001b[0;34m(\u001b[0m\u001b[0mcurrent_state\u001b[0m\u001b[0;34m,\u001b[0m \u001b[0maction\u001b[0m\u001b[0;34m,\u001b[0m \u001b[0mreward\u001b[0m\u001b[0;34m,\u001b[0m \u001b[0mnext_state\u001b[0m\u001b[0;34m,\u001b[0m \u001b[0mdone\u001b[0m\u001b[0;34m,\u001b[0m \u001b[0mfeasible_actions\u001b[0m\u001b[0;34m)\u001b[0m\u001b[0;34m\u001b[0m\u001b[0;34m\u001b[0m\u001b[0m\n\u001b[1;32m     25\u001b[0m         \u001b[0mdone\u001b[0m \u001b[0;34m=\u001b[0m \u001b[0mdone\u001b[0m \u001b[0;32mor\u001b[0m \u001b[0mtruncated\u001b[0m\u001b[0;34m\u001b[0m\u001b[0;34m\u001b[0m\u001b[0m\n",
            "\u001b[0;32m<ipython-input-17-a3373bff04a9>\u001b[0m in \u001b[0;36mstep_action\u001b[0;34m(self, action)\u001b[0m\n\u001b[1;32m    323\u001b[0m       \u001b[0mself\u001b[0m\u001b[0;34m.\u001b[0m\u001b[0mstate\u001b[0m\u001b[0;34m[\u001b[0m\u001b[0maction_node_b\u001b[0m\u001b[0;34m,\u001b[0m \u001b[0maction_node_a\u001b[0m\u001b[0;34m]\u001b[0m \u001b[0;34m+=\u001b[0m \u001b[0mint\u001b[0m\u001b[0;34m(\u001b[0m\u001b[0msgn\u001b[0m \u001b[0;34m*\u001b[0m \u001b[0mdelta\u001b[0m\u001b[0;34m)\u001b[0m  \u001b[0;31m# keep symmetry\u001b[0m\u001b[0;34m\u001b[0m\u001b[0;34m\u001b[0m\u001b[0m\n\u001b[1;32m    324\u001b[0m \u001b[0;34m\u001b[0m\u001b[0m\n\u001b[0;32m--> 325\u001b[0;31m     \u001b[0mmin_loss\u001b[0m\u001b[0;34m,\u001b[0m \u001b[0mcompression\u001b[0m \u001b[0;34m=\u001b[0m \u001b[0mself\u001b[0m\u001b[0;34m.\u001b[0m\u001b[0mmin_loss\u001b[0m\u001b[0;34m(\u001b[0m\u001b[0mself\u001b[0m\u001b[0;34m.\u001b[0m\u001b[0mstate\u001b[0m\u001b[0;34m,\u001b[0m \u001b[0mself\u001b[0m\u001b[0;34m.\u001b[0m\u001b[0mtarget_tensor\u001b[0m\u001b[0;34m)\u001b[0m\u001b[0;34m\u001b[0m\u001b[0;34m\u001b[0m\u001b[0m\n\u001b[0m\u001b[1;32m    326\u001b[0m     \u001b[0mreward\u001b[0m \u001b[0;34m=\u001b[0m \u001b[0;34m-\u001b[0m \u001b[0;34m(\u001b[0m\u001b[0mmin_loss\u001b[0m \u001b[0;34m+\u001b[0m \u001b[0mcompression\u001b[0m\u001b[0;34m)\u001b[0m\u001b[0;34m\u001b[0m\u001b[0;34m\u001b[0m\u001b[0m\n\u001b[1;32m    327\u001b[0m     \u001b[0mtruncted\u001b[0m \u001b[0;34m=\u001b[0m \u001b[0mself\u001b[0m\u001b[0;34m.\u001b[0m\u001b[0mnum_steps\u001b[0m \u001b[0;34m>=\u001b[0m \u001b[0mself\u001b[0m\u001b[0;34m.\u001b[0m\u001b[0mmax_episode_length\u001b[0m\u001b[0;34m\u001b[0m\u001b[0;34m\u001b[0m\u001b[0m\n",
            "\u001b[0;32m<ipython-input-17-a3373bff04a9>\u001b[0m in \u001b[0;36mmin_loss\u001b[0;34m(self, tensor_network_adj_matrix, target_tensor, n_iterations, learning_rate)\u001b[0m\n\u001b[1;32m    224\u001b[0m       \u001b[0mcontracted_tensor_network\u001b[0m \u001b[0;34m=\u001b[0m \u001b[0mncon\u001b[0m\u001b[0;34m(\u001b[0m\u001b[0mtensors\u001b[0m\u001b[0;34m,\u001b[0m \u001b[0mncon_v\u001b[0m\u001b[0;34m)\u001b[0m\u001b[0;34m\u001b[0m\u001b[0;34m\u001b[0m\u001b[0m\n\u001b[1;32m    225\u001b[0m       \u001b[0mloss\u001b[0m \u001b[0;34m=\u001b[0m \u001b[0mtorch\u001b[0m\u001b[0;34m.\u001b[0m\u001b[0mmean\u001b[0m\u001b[0;34m(\u001b[0m\u001b[0;34m(\u001b[0m\u001b[0mcontracted_tensor_network\u001b[0m \u001b[0;34m-\u001b[0m \u001b[0mtarget_tensor\u001b[0m\u001b[0;34m)\u001b[0m \u001b[0;34m**\u001b[0m \u001b[0;36m2\u001b[0m\u001b[0;34m)\u001b[0m\u001b[0;34m\u001b[0m\u001b[0;34m\u001b[0m\u001b[0m\n\u001b[0;32m--> 226\u001b[0;31m       \u001b[0mloss\u001b[0m\u001b[0;34m.\u001b[0m\u001b[0mbackward\u001b[0m\u001b[0;34m(\u001b[0m\u001b[0;34m)\u001b[0m\u001b[0;34m\u001b[0m\u001b[0;34m\u001b[0m\u001b[0m\n\u001b[0m\u001b[1;32m    227\u001b[0m       \u001b[0moptimizer\u001b[0m\u001b[0;34m.\u001b[0m\u001b[0mstep\u001b[0m\u001b[0;34m(\u001b[0m\u001b[0;34m)\u001b[0m\u001b[0;34m\u001b[0m\u001b[0;34m\u001b[0m\u001b[0m\n\u001b[1;32m    228\u001b[0m \u001b[0;34m\u001b[0m\u001b[0m\n",
            "\u001b[0;32m/usr/local/lib/python3.10/dist-packages/torch/_tensor.py\u001b[0m in \u001b[0;36mbackward\u001b[0;34m(self, gradient, retain_graph, create_graph, inputs)\u001b[0m\n\u001b[1;32m    490\u001b[0m                 \u001b[0minputs\u001b[0m\u001b[0;34m=\u001b[0m\u001b[0minputs\u001b[0m\u001b[0;34m,\u001b[0m\u001b[0;34m\u001b[0m\u001b[0;34m\u001b[0m\u001b[0m\n\u001b[1;32m    491\u001b[0m             )\n\u001b[0;32m--> 492\u001b[0;31m         torch.autograd.backward(\n\u001b[0m\u001b[1;32m    493\u001b[0m             \u001b[0mself\u001b[0m\u001b[0;34m,\u001b[0m \u001b[0mgradient\u001b[0m\u001b[0;34m,\u001b[0m \u001b[0mretain_graph\u001b[0m\u001b[0;34m,\u001b[0m \u001b[0mcreate_graph\u001b[0m\u001b[0;34m,\u001b[0m \u001b[0minputs\u001b[0m\u001b[0;34m=\u001b[0m\u001b[0minputs\u001b[0m\u001b[0;34m\u001b[0m\u001b[0;34m\u001b[0m\u001b[0m\n\u001b[1;32m    494\u001b[0m         )\n",
            "\u001b[0;32m/usr/local/lib/python3.10/dist-packages/torch/autograd/__init__.py\u001b[0m in \u001b[0;36mbackward\u001b[0;34m(tensors, grad_tensors, retain_graph, create_graph, grad_variables, inputs)\u001b[0m\n\u001b[1;32m    249\u001b[0m     \u001b[0;31m# some Python versions print out the first line of a multi-line function\u001b[0m\u001b[0;34m\u001b[0m\u001b[0;34m\u001b[0m\u001b[0m\n\u001b[1;32m    250\u001b[0m     \u001b[0;31m# calls in the traceback and some print out the last line\u001b[0m\u001b[0;34m\u001b[0m\u001b[0;34m\u001b[0m\u001b[0m\n\u001b[0;32m--> 251\u001b[0;31m     Variable._execution_engine.run_backward(  # Calls into the C++ engine to run the backward pass\n\u001b[0m\u001b[1;32m    252\u001b[0m         \u001b[0mtensors\u001b[0m\u001b[0;34m,\u001b[0m\u001b[0;34m\u001b[0m\u001b[0;34m\u001b[0m\u001b[0m\n\u001b[1;32m    253\u001b[0m         \u001b[0mgrad_tensors_\u001b[0m\u001b[0;34m,\u001b[0m\u001b[0;34m\u001b[0m\u001b[0;34m\u001b[0m\u001b[0m\n",
            "\u001b[0;31mKeyboardInterrupt\u001b[0m: "
          ]
        }
      ]
    },
    {
      "cell_type": "code",
      "source": [
        "sarsa_returns"
      ],
      "metadata": {
        "id": "FMQIIq6h6lwb",
        "colab": {
          "base_uri": "https://localhost:8080/"
        },
        "outputId": "502617d4-873f-4867-b041-70752e6cb00e"
      },
      "execution_count": 45,
      "outputs": [
        {
          "output_type": "execute_result",
          "data": {
            "text/plain": [
              "[]"
            ]
          },
          "metadata": {},
          "execution_count": 45
        }
      ]
    },
    {
      "cell_type": "code",
      "source": [
        "last_state"
      ],
      "metadata": {
        "id": "ZTXEHrAlGN5e",
        "colab": {
          "base_uri": "https://localhost:8080/",
          "height": 176
        },
        "outputId": "0c80f6a5-81f2-482f-e2eb-dc8f615db8a8"
      },
      "execution_count": 46,
      "outputs": [
        {
          "output_type": "error",
          "ename": "NameError",
          "evalue": "ignored",
          "traceback": [
            "\u001b[0;31m---------------------------------------------------------------------------\u001b[0m",
            "\u001b[0;31mNameError\u001b[0m                                 Traceback (most recent call last)",
            "\u001b[0;32m<ipython-input-46-c6adcdeb98b1>\u001b[0m in \u001b[0;36m<cell line: 1>\u001b[0;34m()\u001b[0m\n\u001b[0;32m----> 1\u001b[0;31m \u001b[0mlast_state\u001b[0m\u001b[0;34m\u001b[0m\u001b[0;34m\u001b[0m\u001b[0m\n\u001b[0m",
            "\u001b[0;31mNameError\u001b[0m: name 'last_state' is not defined"
          ]
        }
      ]
    },
    {
      "cell_type": "markdown",
      "source": [
        "## 2.3 Q-learning algorithm"
      ],
      "metadata": {
        "id": "7mKi4B1yM7J0"
      }
    },
    {
      "cell_type": "code",
      "source": [
        "#@title Q-learning\n",
        "\n",
        "class QLearningAgent(Agent):\n",
        "    def __init__(self, agent_init_info: dict):\n",
        "      super().__init__()\n",
        "      self.epsilon = agent_init_info[\"epsilon\"]\n",
        "      self.step_size = agent_init_info[\"step_size\"]\n",
        "      self.discount = agent_init_info[\"discount\"]\n",
        "      self.q = dict()\n",
        "\n",
        "    def current_policy(self, current_state, feasible_actions):\n",
        "        # Choose a random action with probability epsilon\n",
        "        if len(self.q) == 0  or np.random.random() < epsilon:\n",
        "          return random.choice(feasible_actions)\n",
        "\n",
        "        max = -np.inf\n",
        "        a_opt = \"\"\n",
        "        bo=False\n",
        "\n",
        "        for qa in self.q:\n",
        "          if qa[0] == str(current_state) and self.q[qa] > max:\n",
        "            max = self.q[qa]\n",
        "            a_opt = qa[1]\n",
        "            bo=True\n",
        "        if a_opt == \"\":\n",
        "          a_opt = random.choice(feasible_actions)\n",
        "        return a_opt\n",
        "\n",
        "    def agent_step(self, prev_state, prev_action, prev_reward, current_state, done, feasible_actions):\n",
        "        \"\"\" A learning step for the agent given SARS\n",
        "        Args:\n",
        "            prev_state (int): the state observation from the enviromnents last step\n",
        "            prev_action (int): the action taken given prev_state\n",
        "            prev_reward (float): The reward received for taking prev_action in prev_state\n",
        "            current_state (int): The state received for taking prev_action in prev_state\n",
        "            done (bool): Indicator that the episode is done\n",
        "        Returns:\n",
        "            action (int): the action the agent is taking given current_state\n",
        "        \"\"\"\n",
        "        # action = self.get_current_policy()(current_state)\n",
        "        action = self.current_policy(current_state, feasible_actions)\n",
        "\n",
        "        if not (str(prev_state),prev_action) in self.q:\n",
        "            self.q[(str(prev_state),prev_action)] = 0\n",
        "        if not  (str(current_state),action) in self.q:\n",
        "            self.q[(str(current_state),action)] = 0\n",
        "\n",
        "        max = -np.inf\n",
        "\n",
        "        for qa in self.q:\n",
        "          if qa[0] == str(current_state) and self.q[qa] > max:\n",
        "            max = self.q[qa]\n",
        "\n",
        "        if not done:\n",
        "            # Update Q-value for the previous state-action pair using the Q-learning update rule\n",
        "            self.q[(str(prev_state),prev_action)] += self.step_size * (prev_reward + self.discount * max - self.q[(str(prev_state),prev_action)])\n",
        "        else:\n",
        "            # If the episode is done, update Q-value for the previous state-action pair with terminal reward\n",
        "            self.q[(str(prev_state),prev_action)] += self.step_size * (prev_reward - self.q[(str(prev_state),prev_action)])\n",
        "\n",
        "\n",
        "        return action"
      ],
      "metadata": {
        "id": "keftW_TFMu3g"
      },
      "execution_count": 47,
      "outputs": []
    },
    {
      "cell_type": "code",
      "source": [
        "## Running Q-learning on the environment on 5 different seeds\n",
        "\n",
        "epsilon = 0.5 #@param {allow-input: true}\n",
        "step_size = 0.1 #@param {allow-input: true}\n",
        "discount = 0.99 #@param\n",
        "num_runs =  10 #@param {allow-input: true}\n",
        "num_episodes = 1 #@param {allow-input: true}\n",
        "\n",
        "# Setup env\n",
        "target_tensor, gt_graph, gt_free_dimensions, gt_compression = get_problem(1)\n",
        "env = Environment(target_tensor, gt_graph=gt_graph, gt_free_dimensions=gt_free_dimensions)\n",
        "\n",
        "q_returns = []\n",
        "q_agents = []\n",
        "for i in range(num_runs):\n",
        "    returns, agent, last_state = td_control(env, agent_class=QLearningAgent, epsilon=epsilon, step_size=step_size, run=i, num_episodes=num_episodes, discount=discount)\n",
        "    q_returns.append(returns)\n",
        "    q_agents.append(agent)"
      ],
      "metadata": {
        "id": "b1Nelx-6Ricl",
        "colab": {
          "base_uri": "https://localhost:8080/",
          "height": 1000
        },
        "outputId": "2f206a9f-15b7-476c-faf1-f02676095939"
      },
      "execution_count": null,
      "outputs": [
        {
          "output_type": "stream",
          "name": "stdout",
          "text": [
            " Action: increment:1:3 | Reward: -1026.7533839154005 | Feasible: ['addNode', 'deleteNode:3', 'increment:0:1', 'increment:0:2', 'decrement:0:2', 'increment:0:3', 'decrement:0:3', 'increment:1:2', 'decrement:1:2', 'increment:1:3', 'increment:2:3', 'decrement:2:3']\n"
          ]
        },
        {
          "output_type": "display_data",
          "data": {
            "text/plain": [
              "<Figure size 600x300 with 2 Axes>"
            ],
            "image/png": "[encoded data removed]"
          },
          "metadata": {}
        },
        {
          "output_type": "stream",
          "name": "stdout",
          "text": [
            " Action: decrement:2:3 | Reward: -11.978176345672491 | Feasible: ['addNode', 'deleteNode:3', 'increment:0:1', 'decrement:0:1', 'increment:0:2', 'increment:0:3', 'decrement:0:3', 'increment:1:2', 'increment:1:3', 'increment:2:3', 'decrement:2:3']\n"
          ]
        },
        {
          "output_type": "display_data",
          "data": {
            "text/plain": [
              "<Figure size 600x300 with 2 Axes>"
            ],
            "image/png": "[encoded data removed]"
          },
          "metadata": {}
        },
        {
          "output_type": "stream",
          "name": "stdout",
          "text": [
            " Action: increment:1:2 | Reward: -30.170375639040543 | Feasible: ['addNode', 'deleteNode:3', 'increment:0:1', 'decrement:0:1', 'increment:0:2', 'increment:0:3', 'decrement:0:3', 'increment:1:2', 'increment:1:3', 'increment:2:3', 'decrement:2:3']\n"
          ]
        },
        {
          "output_type": "display_data",
          "data": {
            "text/plain": [
              "<Figure size 600x300 with 2 Axes>"
            ],
            "image/png": "[encoded data removed]"
          },
          "metadata": {}
        },
        {
          "output_type": "stream",
          "name": "stdout",
          "text": [
            " Action: decrement:2:3 | Reward: -1044.2707219890358 | Feasible: ['addNode', 'deleteNode:3', 'increment:0:1', 'decrement:0:1', 'increment:0:2', 'increment:0:3', 'increment:1:2', 'increment:1:3', 'decrement:1:3', 'increment:2:3', 'decrement:2:3']\n"
          ]
        },
        {
          "output_type": "display_data",
          "data": {
            "text/plain": [
              "<Figure size 600x300 with 2 Axes>"
            ],
            "image/png": "[encoded data removed]"
          },
          "metadata": {}
        }
      ]
    },
    {
      "cell_type": "code",
      "source": [
        "last_state"
      ],
      "metadata": {
        "id": "Q24O4OzuRyhP"
      },
      "execution_count": null,
      "outputs": []
    },
    {
      "cell_type": "code",
      "source": [],
      "metadata": {
        "id": "yllRyoCoSLtj"
      },
      "execution_count": null,
      "outputs": []
    }
  ],
  "metadata": {
    "colab": {
      "provenance": [],
      "include_colab_link": true
    },
    "kernelspec": {
      "display_name": "Python 3",
      "name": "python3"
    },
    "language_info": {
      "name": "python"
    }
  },
  "nbformat": 4,
  "nbformat_minor": 0
}